{
 "cells": [
  {
   "cell_type": "markdown",
   "metadata": {},
   "source": [
    "# Centrale 2021"
   ]
  },
  {
   "cell_type": "code",
   "execution_count": 1,
   "metadata": {
    "vscode": {
     "languageId": "ocaml"
    }
   },
   "outputs": [
    {
     "data": {
      "text/plain": [
       "type graphe = int list array\n"
      ]
     },
     "execution_count": 1,
     "metadata": {},
     "output_type": "execute_result"
    }
   ],
   "source": [
    "type graphe = int list array ;; "
   ]
  },
  {
   "cell_type": "code",
   "execution_count": 2,
   "metadata": {
    "vscode": {
     "languageId": "ocaml"
    }
   },
   "outputs": [
    {
     "data": {
      "text/plain": [
       "val nombre_aretes : 'a list array -> int = <fun>\n"
      ]
     },
     "execution_count": 2,
     "metadata": {},
     "output_type": "execute_result"
    }
   ],
   "source": [
    "let nombre_aretes g =\n",
    "  let rec length_list l =\n",
    "    match l with\n",
    "    |[] -> 0\n",
    "    |h::t -> 1 + length_list t \n",
    "  in\n",
    "  let s = ref 0 in\n",
    "  for i = 0 to Array.length(g) - 1 do\n",
    "    s := !s + length_list g.(i)\n",
    "  done;\n",
    "  !s / 2 ;;"
   ]
  },
  {
   "cell_type": "code",
   "execution_count": 3,
   "metadata": {
    "vscode": {
     "languageId": "ocaml"
    }
   },
   "outputs": [
    {
     "data": {
      "text/plain": [
       "val g_2_3 : int array array =\n",
       "  [|[|3; 1|]; [|4; 0; 2|]; [|5; 1|]; [|0; 4|]; [|1; 3; 5|]; [|2; 4|]|]\n"
      ]
     },
     "execution_count": 3,
     "metadata": {},
     "output_type": "execute_result"
    }
   ],
   "source": [
    "let g_2_3 = [|\n",
    "  [|3; 1|];\n",
    "  [|4; 0; 2|];\n",
    "  [|5; 1|];\n",
    "  [|0; 4|];\n",
    "  [|1; 3 ; 5|];\n",
    "  [|2; 4|];\n",
    "|]"
   ]
  },
  {
   "cell_type": "code",
   "execution_count": 4,
   "metadata": {
    "vscode": {
     "languageId": "ocaml"
    }
   },
   "outputs": [
    {
     "data": {
      "text/plain": [
       "val adjacence : 'a list array -> 'a array array = <fun>\n"
      ]
     },
     "execution_count": 4,
     "metadata": {},
     "output_type": "execute_result"
    }
   ],
   "source": [
    "let adjacence g =\n",
    "let n = Array.length g in\n",
    "let adj = Array.make n [||] in\n",
    "for i = 0 to n - 1 do\n",
    "    adj.(i) <- Array.of_list g.(i)\n",
    "done;\n",
    "adj ;; "
   ]
  },
  {
   "cell_type": "code",
   "execution_count": 5,
   "metadata": {
    "vscode": {
     "languageId": "ocaml"
    }
   },
   "outputs": [
    {
     "data": {
      "text/plain": [
       "val test : int list array = [|[]; [2]; [1]|]\n"
      ]
     },
     "execution_count": 5,
     "metadata": {},
     "output_type": "execute_result"
    },
    {
     "data": {
      "text/plain": [
       "val test_adj : int array array = [|[||]; [|2|]; [|1|]|]\n"
      ]
     },
     "execution_count": 5,
     "metadata": {},
     "output_type": "execute_result"
    }
   ],
   "source": [
    "let test = [| []; [2]; [1]|]\n",
    "let test_adj = adjacence test ;;"
   ]
  },
  {
   "cell_type": "code",
   "execution_count": 6,
   "metadata": {
    "vscode": {
     "languageId": "ocaml"
    }
   },
   "outputs": [
    {
     "data": {
      "text/plain": [
       "val rang : int * int -> int * int -> int = <fun>\n"
      ]
     },
     "execution_count": 6,
     "metadata": {},
     "output_type": "execute_result"
    }
   ],
   "source": [
    "let rang (p, q) (s, t) =\n",
    "  let is, js = s / p, s mod p in\n",
    "  let it, jt = t / p, t mod p in\n",
    "  if it = is + 1 then\n",
    "    (q - 1) * is + js\n",
    "  else if jt = js + 1 then\n",
    "    p * (q - 1) + (p - 1) * js + is\n",
    "  else \n",
    "    failwith \"Argument(s) invalide(s)\" ;;"
   ]
  },
  {
   "cell_type": "code",
   "execution_count": 7,
   "metadata": {
    "vscode": {
     "languageId": "ocaml"
    }
   },
   "outputs": [
    {
     "data": {
      "text/plain": [
       "val test_rg : int = 2\n"
      ]
     },
     "execution_count": 7,
     "metadata": {},
     "output_type": "execute_result"
    }
   ],
   "source": [
    "let test_rg = rang (4, 3) (2, 6)"
   ]
  },
  {
   "cell_type": "code",
   "execution_count": 8,
   "metadata": {
    "vscode": {
     "languageId": "ocaml"
    }
   },
   "outputs": [
    {
     "data": {
      "text/plain": [
       "val sommets : int * int -> int -> int * int = <fun>\n"
      ]
     },
     "execution_count": 8,
     "metadata": {},
     "output_type": "execute_result"
    }
   ],
   "source": [
    "let sommets (p, q) rg =\n",
    "    if rg < p * (q - 1) then\n",
    "        let is, js = rg mod (q - 1), rg / (q - 1) in\n",
    "        let s = is * p + js in\n",
    "        (s, s + p)\n",
    "    else if rg < p * (q - 1) + q * (p - 1) then\n",
    "        let shift = p * (q - 1) in\n",
    "        let is, js = (rg - shift) mod (p - 1), (rg - shift) / (p - 1) in\n",
    "        let s = js * (q + 1) + is in\n",
    "        (s, s + 1)\n",
    "    else failwith \"Argument(s) invalide(s)\""
   ]
  },
  {
   "cell_type": "code",
   "execution_count": 9,
   "metadata": {
    "vscode": {
     "languageId": "ocaml"
    }
   },
   "outputs": [
    {
     "data": {
      "text/plain": [
       "val test_sommets : int * int = (10, 11)\n"
      ]
     },
     "execution_count": 9,
     "metadata": {},
     "output_type": "execute_result"
    }
   ],
   "source": [
    "let test_sommets = sommets (4, 3) 16"
   ]
  },
  {
   "cell_type": "code",
   "execution_count": 10,
   "metadata": {
    "vscode": {
     "languageId": "ocaml"
    }
   },
   "outputs": [
    {
     "data": {
      "text/plain": [
       "val quadrillage : int -> int -> int list array = <fun>\n"
      ]
     },
     "execution_count": 10,
     "metadata": {},
     "output_type": "execute_result"
    }
   ],
   "source": [
    "let quadrillage p q =\n",
    "  let graphe = Array.make (p * q) [] in\n",
    "  let rec remplissage_graphe rg =\n",
    "    if rg < p * (q - 1) + q * (p - 1) then\n",
    "      let v1, v2 = sommets (p, q) rg in\n",
    "      begin\n",
    "        graphe.(v1) <- v2 :: graphe.(v1) ;\n",
    "        graphe.(v2) <- v1 :: graphe.(v2);\n",
    "        remplissage_graphe (rg + 1);\n",
    "      end\n",
    "  in\n",
    "  remplissage_graphe 0 ;\n",
    "  graphe ;;"
   ]
  },
  {
   "cell_type": "code",
   "execution_count": 11,
   "metadata": {
    "vscode": {
     "languageId": "ocaml"
    }
   },
   "outputs": [
    {
     "data": {
      "text/plain": [
       "val test_quadrillage : int list array =\n",
       "  [|[1; 4]; [2; 0; 5]; [3; 1; 6]; [2; 7]; [5; 8; 0]; [6; 4; 9; 1];\n",
       "    [7; 5; 10; 2]; [6; 11; 3]; [9; 4]; [10; 8; 5]; [11; 9; 6]; [10; 7]|]\n"
      ]
     },
     "execution_count": 11,
     "metadata": {},
     "output_type": "execute_result"
    }
   ],
   "source": [
    "let test_quadrillage = quadrillage 4 3 ;"
   ]
  },
  {
   "cell_type": "code",
   "execution_count": 12,
   "metadata": {
    "vscode": {
     "languageId": "ocaml"
    }
   },
   "outputs": [
    {
     "data": {
      "text/plain": [
       "type chemin = { debut : int; mutable fin : int; suivant : int array; }\n"
      ]
     },
     "execution_count": 12,
     "metadata": {},
     "output_type": "execute_result"
    }
   ],
   "source": [
    "type chemin = {debut : int; mutable fin : int ; suivant : int array}"
   ]
  },
  {
   "cell_type": "code",
   "execution_count": 13,
   "metadata": {
    "vscode": {
     "languageId": "ocaml"
    }
   },
   "outputs": [
    {
     "data": {
      "text/plain": [
       "val marche_aleatoire : int array array -> int array -> int -> chemin = <fun>\n"
      ]
     },
     "execution_count": 13,
     "metadata": {},
     "output_type": "execute_result"
    }
   ],
   "source": [
    "let marche_aleatoire adj parent sommet =\n",
    "    let chemin = {debut = sommet ; fin = sommet ; \n",
    "    suivant = Array.make (Array.length adj) 0} in\n",
    "    while parent.(chemin.fin) = -2 do\n",
    "        begin\n",
    "        let nombre_voisins = Array.length adj.(chemin.fin) in\n",
    "        let indice_voisin_aleatoire = Random.int nombre_voisins in\n",
    "        let voisin_aleatoire = adj.(chemin.fin).(indice_voisin_aleatoire) in\n",
    "        chemin.suivant.(chemin.fin) <- voisin_aleatoire; (*si u est dans le cycle, \n",
    "           cette modification n'importe pas*)\n",
    "        chemin.fin <- voisin_aleatoire;\n",
    "        end\n",
    "    done;\n",
    "    chemin ;;"
   ]
  },
  {
   "cell_type": "code",
   "execution_count": 14,
   "metadata": {
    "vscode": {
     "languageId": "ocaml"
    }
   },
   "outputs": [
    {
     "data": {
      "text/plain": [
       "val greffe : int array -> chemin -> unit = <fun>\n"
      ]
     },
     "execution_count": 14,
     "metadata": {},
     "output_type": "execute_result"
    }
   ],
   "source": [
    "let greffe parent chemin =\n",
    "    let sommet = ref chemin.debut in\n",
    "    while !sommet <> chemin.fin do (*chemin.fin etant dans T, on a pas à l'ajouté*)\n",
    "        let suivant = chemin.suivant.(!sommet) in\n",
    "        parent.(!sommet) <- suivant;\n",
    "        sommet := suivant\n",
    "    done;"
   ]
  },
  {
   "cell_type": "code",
   "execution_count": 15,
   "metadata": {
    "vscode": {
     "languageId": "ocaml"
    }
   },
   "outputs": [
    {
     "data": {
      "text/plain": [
       "val wilson : int list array -> int -> int array = <fun>\n"
      ]
     },
     "execution_count": 15,
     "metadata": {},
     "output_type": "execute_result"
    }
   ],
   "source": [
    "let wilson g r =\n",
    "    let n = Array.length g in\n",
    "    let adj = adjacence g in\n",
    "    let parent = Array.make n (-2) in\n",
    "    parent.(r) <- -1 ;\n",
    "    for sommet = 0 to n - 1 do\n",
    "        if parent.(sommet) < 0 then\n",
    "            let chemin = marche_aleatoire adj parent sommet in\n",
    "            greffe parent chemin\n",
    "    done;\n",
    "    parent ;;\n",
    "    "
   ]
  },
  {
   "cell_type": "code",
   "execution_count": 16,
   "metadata": {
    "vscode": {
     "languageId": "ocaml"
    }
   },
   "outputs": [
    {
     "data": {
      "text/plain": [
       "type direction = S | W | N | E\n"
      ]
     },
     "execution_count": 16,
     "metadata": {},
     "output_type": "execute_result"
    }
   ],
   "source": [
    "type direction = S | W | N | E"
   ]
  },
  {
   "cell_type": "code",
   "execution_count": 17,
   "metadata": {
    "vscode": {
     "languageId": "ocaml"
    }
   },
   "outputs": [
    {
     "data": {
      "text/plain": [
       "val p : int = 4\n"
      ]
     },
     "execution_count": 17,
     "metadata": {},
     "output_type": "execute_result"
    },
    {
     "data": {
      "text/plain": [
       "val q : int = 3\n"
      ]
     },
     "execution_count": 17,
     "metadata": {},
     "output_type": "execute_result"
    },
    {
     "data": {
      "text/plain": [
       "val g : int list array =\n",
       "  [|[1; 4]; [2; 0; 5]; [3; 1; 6]; [2; 7]; [5; 8; 0]; [6; 4; 9; 1];\n",
       "    [7; 5; 10; 2]; [6; 11; 3]; [9; 4]; [10; 8; 5]; [11; 9; 6]; [10; 7]|]\n"
      ]
     },
     "execution_count": 17,
     "metadata": {},
     "output_type": "execute_result"
    }
   ],
   "source": [
    "let p = 4\n",
    "let q = 3\n",
    "let g = quadrillage p q"
   ]
  },
  {
   "cell_type": "code",
   "execution_count": 18,
   "metadata": {
    "vscode": {
     "languageId": "ocaml"
    }
   },
   "outputs": [
    {
     "data": {
      "text/plain": [
       "val coord_noire : int -> int * int = <fun>\n"
      ]
     },
     "execution_count": 18,
     "metadata": {},
     "output_type": "execute_result"
    }
   ],
   "source": [
    "let coord_noire sommet = \n",
    "  let i, j = sommet / p, sommet mod p in\n",
    "  (i * 2, j * 2) "
   ]
  },
  {
   "cell_type": "code",
   "execution_count": 19,
   "metadata": {
    "vscode": {
     "languageId": "ocaml"
    }
   },
   "outputs": [
    {
     "data": {
      "text/plain": [
       "val test_coord : int * int = (4, 6)\n"
      ]
     },
     "execution_count": 19,
     "metadata": {},
     "output_type": "execute_result"
    }
   ],
   "source": [
    "let test_coord = coord_noire 11"
   ]
  },
  {
   "cell_type": "code",
   "execution_count": 20,
   "metadata": {
    "vscode": {
     "languageId": "ocaml"
    }
   },
   "outputs": [
    {
     "data": {
      "text/plain": [
       "val sommet_direction : int -> direction -> int = <fun>\n"
      ]
     },
     "execution_count": 20,
     "metadata": {},
     "output_type": "execute_result"
    }
   ],
   "source": [
    "let sommet_direction sommet direction =\n",
    "    let i, j = sommet / p, sommet mod p in\n",
    "    match direction with\n",
    "    |N -> if i >= (q - 1) then -1 else (i + 1) * p + j\n",
    "    |S -> if i <= 0 then -1 else (i - 1) * p + j\n",
    "    |W -> if j <= 0 then -1 else i * p + j - 1\n",
    "    |E -> if j >= (p - 1) then -1 else i * p + j + 1"
   ]
  },
  {
   "cell_type": "code",
   "execution_count": 21,
   "metadata": {
    "vscode": {
     "languageId": "ocaml"
    }
   },
   "outputs": [
    {
     "data": {
      "text/plain": [
       "val test_sommet_direction : int = 3\n"
      ]
     },
     "execution_count": 21,
     "metadata": {},
     "output_type": "execute_result"
    }
   ],
   "source": [
    "let test_sommet_direction = sommet_direction 2 E"
   ]
  },
  {
   "cell_type": "code",
   "execution_count": 22,
   "metadata": {
    "vscode": {
     "languageId": "ocaml"
    }
   },
   "outputs": [
    {
     "data": {
      "text/plain": [
       "val phi : direction array array -> int array = <fun>\n"
      ]
     },
     "execution_count": 22,
     "metadata": {},
     "output_type": "execute_result"
    }
   ],
   "source": [
    "let phi pavage = \n",
    "    let parent = Array.make (p * q) (-2) in\n",
    "    parent.(0) <- -1;\n",
    "    for i = 0 to q - 1 do\n",
    "        for j = 0 to p - 1 do\n",
    "            let sommet = i * p + j in\n",
    "            let x_pavage, y_pavage = coord_noire sommet in\n",
    "            if x_pavage mod 2 = y_pavage mod 2\n",
    "                && (x_pavage, y_pavage) <> (0, 0) then\n",
    "                let pere = sommet_direction sommet \n",
    "                                  pavage.(x_pavage).(y_pavage) in\n",
    "                parent.(sommet) <- pere\n",
    "          done;\n",
    "    done;\n",
    "    parent ;;"
   ]
  },
  {
   "cell_type": "code",
   "execution_count": 23,
   "metadata": {
    "vscode": {
     "languageId": "ocaml"
    }
   },
   "outputs": [
    {
     "data": {
      "text/plain": [
       "val pavage1 : direction array array =\n",
       "  [|[|N; N; E; N; N; N; W|]; [|N; S; N; W; N; E; N|];\n",
       "    [|S; N; W; N; W; N; W|]; [|N; N; N; N; N; W; N|];\n",
       "    [|S; N; S; N; E; N; S|]|]\n"
      ]
     },
     "execution_count": 23,
     "metadata": {},
     "output_type": "execute_result"
    },
    {
     "data": {
      "text/plain": [
       "val test_phi : int array = [|-1; 2; 6; 2; 0; 4; 5; 6; 4; 5; 11; 7|]\n"
      ]
     },
     "execution_count": 23,
     "metadata": {},
     "output_type": "execute_result"
    }
   ],
   "source": [
    "let pavage1 = [|\n",
    "  [|N; N; E; N; N; N; W|];\n",
    "  [|N; S; N; W; N; E; N|];\n",
    "  [|S; N; W; N; W; N ;W|];\n",
    "  [|N; N; N; N; N; W; N|];\n",
    "  [|S; N; S; N; E; N; S|]\n",
    "|] ;;\n",
    "\n",
    "let test_phi = phi pavage1"
   ]
  },
  {
   "cell_type": "code",
   "execution_count": 29,
   "metadata": {
    "vscode": {
     "languageId": "ocaml"
    }
   },
   "outputs": [
    {
     "data": {
      "text/plain": [
       "val representant : int array -> int -> int = <fun>\n"
      ]
     },
     "execution_count": 29,
     "metadata": {},
     "output_type": "execute_result"
    }
   ],
   "source": [
    "let rec representant partition sommet =\n",
    "  if partition.(sommet) < 0 then sommet\n",
    "  else representant partition partition.(sommet)"
   ]
  },
  {
   "cell_type": "code",
   "execution_count": 34,
   "metadata": {
    "vscode": {
     "languageId": "ocaml"
    }
   },
   "outputs": [
    {
     "data": {
      "text/plain": [
       "val union : int array -> int -> int -> unit = <fun>\n"
      ]
     },
     "execution_count": 34,
     "metadata": {},
     "output_type": "execute_result"
    }
   ],
   "source": [
    "let union partition sommet1 sommet2 =\n",
    "    let h_sommet1 = - partition.(sommet1) - 1 in\n",
    "    let h_sommet2 = - partition.(sommet2) - 1 in\n",
    "    if h_sommet1 > h_sommet2 then\n",
    "        partition.(sommet2) <- sommet1\n",
    "    else if h_sommet1 = h_sommet2 then\n",
    "        begin\n",
    "        partition.(sommet1) <- sommet2 ;\n",
    "        partition.(sommet2) <- partition.(sommet2) - 1 \n",
    "        end\n",
    "    else\n",
    "        partition.(sommet1) <- sommet2\n",
    "    ;"
   ]
  },
  {
   "cell_type": "code",
   "execution_count": 35,
   "metadata": {
    "vscode": {
     "languageId": "ocaml"
    }
   },
   "outputs": [
    {
     "data": {
      "text/plain": [
       "val count_composantes_connexes : int list array -> int = <fun>\n"
      ]
     },
     "execution_count": 35,
     "metadata": {},
     "output_type": "execute_result"
    }
   ],
   "source": [
    "let count_composantes_connexes  graphe =\n",
    "    let n = Array.length graphe in\n",
    "    let count =  ref 0 in\n",
    "    let partition = Array.make n (-1) in\n",
    "    for sommet1 = 0 to n - 1 do\n",
    "        List.iter (fun sommet2 ->\n",
    "                  let representant_sommet1 = representant partition sommet1 in\n",
    "                  let representant_sommet2 = representant partition sommet2 in\n",
    "                  if representant_sommet1 <> representant_sommet2 then\n",
    "                    union partition representant_sommet1 representant_sommet2)\n",
    "                  graphe.(sommet1)\n",
    "    done;\n",
    "    for sommet = 0 to n - 1 do\n",
    "        if partition.(sommet) < 0\n",
    "            then incr count\n",
    "    done;\n",
    "    !count ;;\n",
    "          "
   ]
  },
  {
   "cell_type": "code",
   "execution_count": 36,
   "metadata": {
    "vscode": {
     "languageId": "ocaml"
    }
   },
   "outputs": [
    {
     "data": {
      "text/plain": [
       "val est_arbre : int list array -> bool = <fun>\n"
      ]
     },
     "execution_count": 36,
     "metadata": {},
     "output_type": "execute_result"
    }
   ],
   "source": [
    "let est_arbre graphe =\n",
    "    let n = Array.length graphe in\n",
    "    (nombre_aretes graphe = n - 1) && (count_composantes_connexes graphe) = 1"
   ]
  },
  {
   "cell_type": "code",
   "execution_count": null,
   "metadata": {
    "vscode": {
     "languageId": "ocaml"
    }
   },
   "outputs": [],
   "source": []
  }
 ],
 "metadata": {
  "kernelspec": {
   "display_name": "OCaml ocaml_jupyter",
   "language": "OCaml",
   "name": "ocaml-jupyter"
  },
  "language_info": {
   "codemirror_mode": "text/x-ocaml",
   "file_extension": ".ml",
   "mimetype": "text/x-ocaml",
   "name": "OCaml",
   "nbconverter_exporter": null,
   "pygments_lexer": "OCaml",
   "version": "4.14.1"
  }
 },
 "nbformat": 4,
 "nbformat_minor": 2
}
