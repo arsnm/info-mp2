{
 "cells": [
  {
   "cell_type": "markdown",
   "metadata": {},
   "source": [
    "# XENS 2023 - Sujet Zéro\n",
    "\n",
    "## PARTIE I. Implémentation des graphes\n",
    "\n",
    "\n",
    "### Question 1"
   ]
  },
  {
   "cell_type": "code",
   "execution_count": 8,
   "metadata": {
    "vscode": {
     "languageId": "ocaml"
    }
   },
   "outputs": [
    {
     "data": {
      "text/plain": [
       "val liste_aretes : int array array -> (int * int * int) list = <fun>\n"
      ]
     },
     "execution_count": 8,
     "metadata": {},
     "output_type": "execute_result"
    }
   ],
   "source": [
    "let liste_aretes g = \n",
    "  let n = Array.length (g) in\n",
    "  let list = ref [] in\n",
    "  for i = 0 to n - 1 do\n",
    "    for j = 0 to i - 1 do\n",
    "      if g.(i).(j) <> 0 then\n",
    "        list := (i, j, g.(i).(j))::!list\n",
    "      done;\n",
    "    done;\n",
    "  !list ;;\n"
   ]
  },
  {
   "cell_type": "markdown",
   "metadata": {},
   "source": [
    "### Question 2"
   ]
  },
  {
   "cell_type": "code",
   "execution_count": 14,
   "metadata": {
    "vscode": {
     "languageId": "ocaml"
    }
   },
   "outputs": [
    {
     "data": {
      "text/plain": [
       "val division : 'a list -> 'a list * 'a list = <fun>\n"
      ]
     },
     "execution_count": 14,
     "metadata": {},
     "output_type": "execute_result"
    },
    {
     "data": {
      "text/plain": [
       "val fusion :\n",
       "  ('a * 'b * 'c) list -> ('a * 'b * 'c) list -> ('a * 'b * 'c) list = <fun>\n"
      ]
     },
     "execution_count": 14,
     "metadata": {},
     "output_type": "execute_result"
    },
    {
     "data": {
      "text/plain": [
       "val tri_fusion : ('a * 'b * 'c) list -> ('a * 'b * 'c) list = <fun>\n"
      ]
     },
     "execution_count": 14,
     "metadata": {},
     "output_type": "execute_result"
    },
    {
     "data": {
      "text/plain": [
       "val liste_aretes_triees : int array array -> (int * int * int) list = <fun>\n"
      ]
     },
     "execution_count": 14,
     "metadata": {},
     "output_type": "execute_result"
    }
   ],
   "source": [
    "let rec division l =\n",
    "  match l with\n",
    "  | [] -> ([], [])\n",
    "  |[e] -> ([e], [])\n",
    "  |e1::e2::t -> let l1, l2 = division t in e1::l1, e2::l2\n",
    "\n",
    "let rec fusion l1 l2 =\n",
    "  match l1, l2 with\n",
    "    | [], _ -> l2\n",
    "    | _, [] -> l1\n",
    "    | (u1, v1, p1)::q1, (u2, v2, p2)::q2 ->\n",
    "        if p1 < p2 then (u1, v1, p1)::fusion q1 l2\n",
    "        else (u2, v2, p2)::fusion l1 q2\n",
    "  \n",
    "let rec tri_fusion l =\n",
    "  match l with\n",
    "  |[] -> []\n",
    "  |[e] -> [e]\n",
    "  |_ -> let l1, l2 = division l in\n",
    "    fusion (tri_fusion l1) (tri_fusion l2)\n",
    "\n",
    "let liste_aretes_triees g =\n",
    "  let liste = liste_aretes g in\n",
    "  tri_fusion liste ;;"
   ]
  },
  {
   "cell_type": "markdown",
   "metadata": {},
   "source": [
    "## Partie II\n",
    "\n",
    "### Question 3\n",
    "\n",
    "i. Si $u$ et $v$ sont des composantes connexes tel que $C_u \\neq C_v$\n",
    "Alors $C_u \\cup C_v$ est une seule composante connexe de $G + uv$.\n",
    "En effet, soit $x,y \\in C_u \\cup C_v$ alors :\n",
    "\n",
    "1.  si $x \\in C_u$ et $y \\in C_u$ : il existe un chemin de $x$ à $y$ par connexité de $C_u$\n",
    "2. idem si $x, y \\in C_v$\n",
    "3. si $x \\in C_u$ et $y \\in C_v$, alors par connexité de $C_u$ il existe un chemin $P_1$ de $x$ à $u$\n",
    "et un chemin $P_2$ de $v$ à $y$, donc $P_1 \\rightarrow uv \\rightarrow P_2$ est un chemin de $x$ à $y$ dans $G + uv$\n",
    "\n",
    "Donc $G + uv$ à une composante connexe en moins.\n",
    "\n",
    "Et s'il existe un cycle $C$ contenant $uv$, alors $C_{uv}$ est un chemin de $u$ à $v$ dans $G$, absurde car $C_u \\neq C_v$. "
   ]
  },
  {
   "cell_type": "code",
   "execution_count": null,
   "metadata": {
    "vscode": {
     "languageId": "ocaml"
    }
   },
   "outputs": [],
   "source": []
  },
  {
   "cell_type": "markdown",
   "metadata": {},
   "source": [
    "### Question 5"
   ]
  },
  {
   "cell_type": "markdown",
   "metadata": {},
   "source": []
  }
 ],
 "metadata": {
  "kernelspec": {
   "display_name": "OCaml ocaml_jupyter",
   "language": "OCaml",
   "name": "ocaml-jupyter"
  },
  "language_info": {
   "codemirror_mode": "text/x-ocaml",
   "file_extension": ".ml",
   "mimetype": "text/x-ocaml",
   "name": "OCaml",
   "nbconverter_exporter": null,
   "pygments_lexer": "OCaml",
   "version": "4.14.1"
  }
 },
 "nbformat": 4,
 "nbformat_minor": 2
}
