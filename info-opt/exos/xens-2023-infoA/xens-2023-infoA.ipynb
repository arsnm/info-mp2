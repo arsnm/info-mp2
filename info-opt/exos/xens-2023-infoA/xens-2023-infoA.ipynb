{
 "cells": [
  {
   "cell_type": "markdown",
   "metadata": {},
   "source": [
    "# XENS 2023 : Informatique A\n",
    "\n",
    "## Partie I - Comptage d'occurrences\n",
    "\n",
    "### Question I.1"
   ]
  },
  {
   "cell_type": "code",
   "execution_count": 1,
   "metadata": {
    "vscode": {
     "languageId": "ocaml"
    }
   },
   "outputs": [
    {
     "data": {
      "text/plain": [
       "val occurences : int list -> int array = <fun>\n"
      ]
     },
     "execution_count": 1,
     "metadata": {},
     "output_type": "execute_result"
    }
   ],
   "source": [
    "let occurences mot =\n",
    "  let q = Array.make 256 0 in\n",
    "  let rec aux list =\n",
    "    match list with\n",
    "    | [] -> ();\n",
    "    | lettre::suite -> q.(lettre) <- q.(lettre) + 1 ; aux suite\n",
    "  in\n",
    "  aux mot;\n",
    "  q;;"
   ]
  },
  {
   "cell_type": "markdown",
   "metadata": {},
   "source": [
    "### Question I.2"
   ]
  },
  {
   "cell_type": "code",
   "execution_count": 2,
   "metadata": {
    "vscode": {
     "languageId": "ocaml"
    }
   },
   "outputs": [
    {
     "data": {
      "text/plain": [
       "val nonzero_occurences : int array -> (int * int) array = <fun>\n"
      ]
     },
     "execution_count": 2,
     "metadata": {},
     "output_type": "execute_result"
    }
   ],
   "source": [
    "let nonzero_occurences occ =\n",
    " let n = (Array.length occ) - 1 in \n",
    " let nonzero_count = ref 0 in\n",
    " for i = 0 to n do\n",
    "  if occ.(i) <> 0 then incr nonzero_count;\n",
    " done;\n",
    " let nonzero_q = Array.make !nonzero_count (0, 0) in\n",
    " let index_to_fill = ref 0 in\n",
    "  for i = 0 to n do\n",
    "    if occ.(i) <> 0 then\n",
    "      begin\n",
    "        nonzero_q.(!index_to_fill) <- (i, occ.(i));\n",
    "        incr index_to_fill;\n",
    "      end\n",
    "    done;\n",
    "  nonzero_q ;;"
   ]
  },
  {
   "cell_type": "markdown",
   "metadata": {},
   "source": [
    "## Partie II - Arbres Binaires\n",
    "\n",
    "### Question II.1\n",
    "\n",
    "On note $S = \\{A, B, C, D \\}$. Comme $|S| = 4$, un arbre appartenant à $\\mathcal{T}_S$ possède exactement $4$ feuilles. Il existe dont $4! = 24$ arbres possibles pour chacune des configurations d'arbres binaires à $4$ feuilles. Or il existe $5$ telles configurations (celle d'un arbre complet de 2 niveaux et les 4 configurations incomplète de 3 niveaux.) \n",
    "\n",
    "<img src=\"attachment:11e5e2b8-964f-4ac4-b18e-dfaa30161bf4.jpg\" width=\"300\" />\n",
    "\n",
    "Il y a donc $5 \\times 24 = 5! = 120$ arbres dans $\\mathcal{T}_S$\n",
    "\n",
    "### Question II.2"
   ]
  },
  {
   "cell_type": "code",
   "execution_count": 3,
   "metadata": {
    "vscode": {
     "languageId": "ocaml"
    }
   },
   "outputs": [
    {
     "data": {
      "text/plain": [
       "type tree = F of int | N of tree * tree\n"
      ]
     },
     "execution_count": 3,
     "metadata": {},
     "output_type": "execute_result"
    },
    {
     "data": {
      "text/plain": [
       "val cq : tree -> int array -> int = <fun>\n"
      ]
     },
     "execution_count": 3,
     "metadata": {},
     "output_type": "execute_result"
    }
   ],
   "source": [
    "type tree = F of int | N of tree * tree ;;\n",
    "\n",
    "let cq arbre occ = \n",
    "  let rec aux arbre profondeur = \n",
    "    match arbre with\n",
    "    |F(s) -> occ.(s) * profondeur\n",
    "    |N(g, d) -> let p = profondeur + 1 in (aux g p) + (aux d p);\n",
    "  in\n",
    "  aux arbre 0;;"
   ]
  },
  {
   "cell_type": "markdown",
   "metadata": {},
   "source": [
    "Comme un arbre binaire strict possédant $n$ feuilles possèdent $n - 1$ nœuds internes, la fonction `aux` est exécutée $2n - 1$ fois, puisque cette fonction parcours tout l'arbre par construction. La complexité est donc en $O(n)$.\n",
    "\n",
    "### Question II.3"
   ]
  },
  {
   "cell_type": "code",
   "execution_count": 4,
   "metadata": {
    "vscode": {
     "languageId": "ocaml"
    }
   },
   "outputs": [
    {
     "data": {
      "text/plain": [
       "val get_path : int -> tree -> int list = <fun>\n"
      ]
     },
     "execution_count": 4,
     "metadata": {},
     "output_type": "execute_result"
    }
   ],
   "source": [
    "let get_path lettre arbre = \n",
    "  let path_lettre = ref [] in\n",
    "  let rec aux arbre path = \n",
    "    match arbre with\n",
    "    |F(x) -> if x = lettre then path_lettre := path\n",
    "    |N(g, d) -> aux g (0::path) ; aux d (1::path)\n",
    "  in \n",
    "  aux arbre [];\n",
    "  !path_lettre ;;"
   ]
  },
  {
   "cell_type": "markdown",
   "metadata": {},
   "source": [
    "Cette fonction, dans le pire des cas, parcours l'intégralité de l'arbre avant d'obtenir la suite de bits attendue. La fonction peut donc au moins parcourir tous les noeuds. De plus, comme chaque noeud est parcourue au plus une fois, la complexité de cette fonction est en $O(2n - 1) = O(n)$\n",
    "\n",
    "### Question II.4"
   ]
  },
  {
   "cell_type": "code",
   "execution_count": 5,
   "metadata": {
    "vscode": {
     "languageId": "ocaml"
    }
   },
   "outputs": [
    {
     "data": {
      "text/plain": [
       "val pow : int -> int -> int = <fun>\n"
      ]
     },
     "execution_count": 5,
     "metadata": {},
     "output_type": "execute_result"
    },
    {
     "data": {
      "text/plain": [
       "val arbre_complet : int -> int -> tree = <fun>\n"
      ]
     },
     "execution_count": 5,
     "metadata": {},
     "output_type": "execute_result"
    },
    {
     "data": {
      "text/plain": [
       "val integers : int -> tree = <fun>\n"
      ]
     },
     "execution_count": 5,
     "metadata": {},
     "output_type": "execute_result"
    },
    {
     "data": {
      "text/plain": [
       "val test : tree =\n",
       "  N (F 0,\n",
       "   N (N (F 1, F 2),\n",
       "    N (N (N (F 3, F 4), N (F 5, F 6)),\n",
       "     N\n",
       "      (N (N (N (F 7, F 8), N (F 9, F 10)),\n",
       "        N (N (F 11, F 12), N (F 13, F 14))),\n",
       "      F 15))))\n"
      ]
     },
     "execution_count": 5,
     "metadata": {},
     "output_type": "execute_result"
    }
   ],
   "source": [
    "let rec pow a = function\n",
    "  | 0 -> 1\n",
    "  | 1 -> a\n",
    "  | n -> \n",
    "    let b = pow a (n / 2) in\n",
    "    b * b * (if n mod 2 = 0 then 1 else a)\n",
    ";;\n",
    "\n",
    "let rec arbre_complet index profondeur =\n",
    "  if (profondeur <= 0)\n",
    "  then F(index) \n",
    "  else N(arbre_complet index (profondeur - 1), arbre_complet (index + (pow 2 (profondeur - 1))) (profondeur - 1))\n",
    ";;\n",
    "\n",
    "let integers borne =\n",
    "  let rec aux index profondeur=\n",
    "    if profondeur < borne\n",
    "    then N(arbre_complet index profondeur, aux (index + pow 2 profondeur) (profondeur + 1))\n",
    "  else F(index)\n",
    "  in\n",
    "  aux 0 0;;\n",
    "\n",
    "let test = integers 4;;"
   ]
  },
  {
   "cell_type": "markdown",
   "metadata": {},
   "source": [
    "## Partie III - Codes préfixes\n",
    "\n",
    "### Question III.1\n",
    "\n",
    "Montrons, par construction de l'arbre $t \\in \\mathcal{T}_\\mathcal{S}$, qu'aucune séquence de bits représentant une lettre n'est préfixe d'une autre séquence de bits représentant une autre lettre.\n",
    "\n",
    "Soit $\\sigma$ une lettre de $\\mathcal{S}$, représenté par la séquence de bits $\\sigma_b = \\sigma_1...\\sigma_l$, avec $l \\in \\mathbb{N}^*$.\n",
    "\n",
    "Supposons qu'il existe une autre lettre $\\sigma' \\neq \\sigma$ représenté par la séquence de bits $\\sigma'_b = \\sigma'_1...\\sigma'_{l'}$, avec $l' \\leq l$ tel que $\\sigma'_1...\\sigma'_{l'} = \\sigma_1...\\sigma_{l'}$ i.e que $\\sigma'_b$ soit préfixe de $\\sigma_b$. Par construction de la séquence de bits depuis la racine pour $\\sigma$ et $\\sigma'$, alors $F(\\sigma')$ est à la fois une feuille et un noeud interne de $t$ -> **absurde**. Donc il n'existe aucun mot possédant une séquence préfixe d'une autre. \n",
    "\n",
    "Montrons maintenant que cela implique qu'une séquence de bits soit uniquement décodable, i.e qu'une séquence de bits ne représente qu'au plus un mot de $\\mathcal{S^*}$. Soit $b = b_1...b_k$ une séquence de bits.\n",
    "\n",
    "Comme on vient de montrer qu'aucune séquences de bits représentant une lettre n'est préfixe d'une autre, alors il existe au plus un $0 \\leq i \\leq k$ tel que $b_1...b_i$ représente une lettre de $t_\\mathcal{S}$. De même, si un tel $i$ existe, alors il existe au plus un $i \\leq i' \\leq l$ tel que $b_i...b_{i'}$ représente une lettre de $t_\\mathcal{S}$. Par une récurrence évidente, on trouve bien que $b$ représente au plus un mot de $\\mathcal{S^*}$. **D'où le résultat.**\n",
    "\n",
    "### Question III.2\n"
   ]
  },
  {
   "cell_type": "code",
   "execution_count": 6,
   "metadata": {
    "vscode": {
     "languageId": "ocaml"
    }
   },
   "outputs": [
    {
     "data": {
      "text/plain": [
       "val decomp1 : int list -> tree -> int list = <fun>\n"
      ]
     },
     "execution_count": 6,
     "metadata": {},
     "output_type": "execute_result"
    }
   ],
   "source": [
    "let decomp1 sequence arbre =\n",
    "  let rec aux seq arbre_temp res=\n",
    "    match seq with\n",
    "    |[] -> if res = [] then failwith \"Séquence de bits invalide\" else res\n",
    "    |h::t -> match arbre_temp with\n",
    "              |F(x) -> aux t arbre (x::res)\n",
    "              |N(g, d) -> if h = 0 then aux t g res \n",
    "                          else if h = 1 then aux t d res \n",
    "                          else failwith \"L'argument donné n'est pas une séquence de bits\"\n",
    "                        in\n",
    "  aux sequence arbre [];;\n"
   ]
  },
  {
   "cell_type": "markdown",
   "metadata": {},
   "source": [
    "## Partie IV - Arbres Optimaux\n",
    "\n",
    "### Question IV.1\n",
    "\n",
    "Si on suppose que $g$ n'est pas optimal, alors en faisant la réunion de $S_g$ et $S_d$, on trouve que $c_q(t) > min_{t' \\in \\mathcal{T}_\\mathcal{S}} c_q(t')$, ce qui contredis l'optimalité de $t$, **d'où le résultat**.\n",
    "\n",
    "### Question IV.2\n",
    "\n",
    "Si une telle lettre $\\sigma_0$ existe, notons $t$ un arbre optimal de $\\mathcal{T}_\\mathcal{S}$. Alors si $F(\\sigma_0)$ est de profondeur $l > 1$ alors $c_q(t)$ = $\\Sigma_{\\sigma \\in \\mathcal{S} \\setminus \\{\\sigma_0\\}} q(\\sigma)$\n",
    "\n",
    "### Question IV.3\n",
    "\n",
    "1. \n",
    "2. \n",
    "\n",
    "### Question IV.4\n",
    "\n"
   ]
  },
  {
   "cell_type": "markdown",
   "metadata": {},
   "source": []
  }
 ],
 "metadata": {
  "kernelspec": {
   "display_name": "OCaml jupyter",
   "language": "OCaml",
   "name": "ocaml-jupyter-jupyter"
  },
  "language_info": {
   "codemirror_mode": "text/x-ocaml",
   "file_extension": ".ml",
   "mimetype": "text/x-ocaml",
   "name": "OCaml",
   "nbconverter_exporter": null,
   "pygments_lexer": "OCaml",
   "version": "4.14.1"
  }
 },
 "nbformat": 4,
 "nbformat_minor": 4
}
