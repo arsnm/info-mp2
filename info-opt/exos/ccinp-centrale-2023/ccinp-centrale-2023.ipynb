{
 "cells": [
  {
   "cell_type": "markdown",
   "metadata": {},
   "source": [
    "# Mélange de questions de CCP 2023 et Centrale 2023\n",
    "\n",
    "Question à faire :\n",
    "- CCP: Q7,Q8\n",
    "- Centrale : Q11 à Q19\n",
    "\n",
    "## CCP\n",
    "\n",
    "### Q7"
   ]
  },
  {
   "cell_type": "code",
   "execution_count": 88,
   "metadata": {
    "vscode": {
     "languageId": "ocaml"
    }
   },
   "outputs": [
    {
     "data": {
      "text/plain": [
       "val partage : 'a -> 'a list -> 'a list * 'a list * int * int = <fun>\n"
      ]
     },
     "execution_count": 88,
     "metadata": {},
     "output_type": "execute_result"
    }
   ],
   "source": [
    "let partage p l =\n",
    "  let rec aux l lesser greater n1 n2 =\n",
    "    match l with\n",
    "    |[] -> lesser, greater, n1, n2\n",
    "    |h::t -> if h <= p then aux t (h::lesser) greater (1 + n1) n2\n",
    "    else aux t lesser (h::greater) n1 (1 + n2)\n",
    "  in\n",
    "  aux l [] [] 0 0; "
   ]
  },
  {
   "cell_type": "markdown",
   "metadata": {},
   "source": [
    "### Q8"
   ]
  },
  {
   "cell_type": "code",
   "execution_count": 89,
   "metadata": {
    "vscode": {
     "languageId": "ocaml"
    }
   },
   "outputs": [
    {
     "data": {
      "text/plain": [
       "val tri_insertion : 'a -> 'b list = <fun>\n"
      ]
     },
     "execution_count": 89,
     "metadata": {},
     "output_type": "execute_result"
    },
    {
     "data": {
      "text/plain": [
       "val paquet_de_cinq : 'a -> 'a list = <fun>\n"
      ]
     },
     "execution_count": 89,
     "metadata": {},
     "output_type": "execute_result"
    },
    {
     "data": {
      "text/plain": [
       "val medians : 'a -> 'b list = <fun>\n"
      ]
     },
     "execution_count": 89,
     "metadata": {},
     "output_type": "execute_result"
    },
    {
     "data": {
      "text/plain": [
       "val selection : 'a list -> int -> 'a = <fun>\n"
      ]
     },
     "execution_count": 89,
     "metadata": {},
     "output_type": "execute_result"
    }
   ],
   "source": [
    "let tri_insertion l = [] ;;\n",
    "let paquet_de_cinq l = [l] ;;\n",
    "let medians l = [] ;;\n",
    "\n",
    "let rec selection l k =\n",
    "    let n = List.length l in\n",
    "    if n <= 5 then\n",
    "        let m = tri_insertion l in\n",
    "        selection m k\n",
    "    else\n",
    "        let l_cinq = paquet_de_cinq l in\n",
    "        let m = medians l_cinq in\n",
    "        let pivot = selection m (((n + 4)/5)/2) in\n",
    "        let l1, l2, n1, n2 = partage pivot l in\n",
    "        if k < n1 then\n",
    "            selection l1 k\n",
    "        else selection l2 (k - n1) ;;"
   ]
  },
  {
   "cell_type": "markdown",
   "metadata": {},
   "source": [
    "## Centrale\n",
    "\n",
    "### Q11"
   ]
  },
  {
   "cell_type": "code",
   "execution_count": 90,
   "metadata": {
    "vscode": {
     "languageId": "ocaml"
    }
   },
   "outputs": [
    {
     "data": {
      "text/plain": [
       "val succ_list : int list -> int -> int = <fun>\n"
      ]
     },
     "execution_count": 90,
     "metadata": {},
     "output_type": "execute_result"
    }
   ],
   "source": [
    "let rec succ_list l x =\n",
    "  match l with\n",
    "  |[] -> -1\n",
    "  |h::t -> if h > x then h else succ_list t x ;;"
   ]
  },
  {
   "cell_type": "markdown",
   "metadata": {},
   "source": [
    "La complexité est en $O(n)$.\n",
    "\n",
    "### Q12\n",
    "- Soit $n$ = `t.(0)`, on renvoie `t.(n)` -> $O(1)$.\n",
    "- Soit $n$ = `t.(0)`. Recherche par dichotomie, en $O(log(n))$\n",
    "- Si on veut que $E$ reste trié, on doit trouver la position à la quelle rajouter x et décaler les éléments suivant -> $O(n)$\n",
    "\n",
    "### Q13"
   ]
  },
  {
   "cell_type": "code",
   "execution_count": 91,
   "metadata": {
    "vscode": {
     "languageId": "ocaml"
    }
   },
   "outputs": [
    {
     "data": {
      "text/plain": [
       "val succ_vect : int array -> int -> int = <fun>\n"
      ]
     },
     "execution_count": 91,
     "metadata": {},
     "output_type": "execute_result"
    }
   ],
   "source": [
    "let succ_vect t x =\n",
    "  if x >= t.(t.(0)) then - 1 else\n",
    "  let d, f = ref 1, ref t.(0) in\n",
    "  while !f - !d > 0 do\n",
    "    let m = (!d + !f) / 2 in\n",
    "    if t.(m) > x then f := m\n",
    "    else d := m + 1 \n",
    "  done;\n",
    "  if t.(!d) = x then t.(!d + 1) else t.(!d) ;;\n",
    "  \n"
   ]
  },
  {
   "cell_type": "markdown",
   "metadata": {},
   "source": [
    "### Q14\n",
    "\n",
    "On divise $n$ par deux jusqu'à ce que $n \\leq 1$, soit $\\log_2(n)$ fois. C'est donc un $O(\\log n)$\n",
    "\n",
    "### Q15"
   ]
  },
  {
   "cell_type": "code",
   "execution_count": 92,
   "metadata": {
    "vscode": {
     "languageId": "ocaml"
    }
   },
   "outputs": [
    {
     "data": {
      "text/plain": [
       "val union_vect : int array -> int array -> int array = <fun>\n"
      ]
     },
     "execution_count": 92,
     "metadata": {},
     "output_type": "execute_result"
    }
   ],
   "source": [
    "let union_vect t1 t2 =\n",
    "  let e = Array.make (Array.length t1) 0 in\n",
    "  let finish = ref false in\n",
    "  if t1.(0) = 0 then t2 else if t2.(0) = 0 then t1 else\n",
    "    let i = ref 2 in\n",
    "    let n_max = t1.(0) + t2.(0) in\n",
    "    e.(1) <- min t1.(1) t2.(1) ;\n",
    "    while !i <= n_max && not !finish do\n",
    "      let succ1, succ2 = succ_vect t1 e.(!i - 1), succ_vect t2 e.(!i - 1) in\n",
    "      if succ1 = - 1 && succ2 = -1 then finish := true else\n",
    "        if succ1 = - 1 || succ2 = -1 then e.(!i) <- max succ1 succ2 else\n",
    "          e.(!i) <- min succ1 succ2 ;\n",
    "      incr i ;\n",
    "        done;\n",
    "      e.(0) <- !i - 1;\n",
    "      e ;;"
   ]
  },
  {
   "cell_type": "markdown",
   "metadata": {},
   "source": [
    "### Q16"
   ]
  },
  {
   "cell_type": "code",
   "execution_count": 93,
   "metadata": {
    "vscode": {
     "languageId": "ocaml"
    }
   },
   "outputs": [
    {
     "data": {
      "text/plain": [
       "type abr = Nil | Noeud of int * abr * abr\n"
      ]
     },
     "execution_count": 93,
     "metadata": {},
     "output_type": "execute_result"
    },
    {
     "data": {
      "text/plain": [
       "val min_abr : abr -> int = <fun>\n"
      ]
     },
     "execution_count": 93,
     "metadata": {},
     "output_type": "execute_result"
    }
   ],
   "source": [
    "type abr = Nil | Noeud of int * abr * abr\n",
    "\n",
    "let rec min_abr abr = \n",
    "  match abr with\n",
    "  |Nil -> -1\n",
    "  |Noeud(x, Nil, _) -> x\n",
    "  |Noeud(_, g, _) -> min_abr g"
   ]
  },
  {
   "cell_type": "markdown",
   "metadata": {},
   "source": [
    "### Q17"
   ]
  },
  {
   "cell_type": "code",
   "execution_count": 94,
   "metadata": {
    "vscode": {
     "languageId": "ocaml"
    }
   },
   "outputs": [
    {
     "data": {
      "text/plain": [
       "val partitionne_abr : int -> abr -> bool * abr * abr = <fun>\n"
      ]
     },
     "execution_count": 94,
     "metadata": {},
     "output_type": "execute_result"
    }
   ],
   "source": [
    "let rec partitionne_abr x abr =\n",
    "  match abr with\n",
    "  |Nil -> (false, Nil, Nil)\n",
    "  |Noeud(r, g, d) -> if x < r then let b, gg, gd = partitionne_abr x g in\n",
    "  (b, gg, Noeud(r, gd, d))\n",
    "else if x > r then\n",
    "  let b, dg, dd = partitionne_abr x d in\n",
    "  (b, Noeud(r, g, dg), dd)\n",
    "else \n",
    "  true, g, d"
   ]
  },
  {
   "cell_type": "markdown",
   "metadata": {},
   "source": [
    "### Q18"
   ]
  },
  {
   "cell_type": "code",
   "execution_count": 95,
   "metadata": {
    "vscode": {
     "languageId": "ocaml"
    }
   },
   "outputs": [
    {
     "data": {
      "text/plain": [
       "val insertion_abr : abr -> int -> abr = <fun>\n"
      ]
     },
     "execution_count": 95,
     "metadata": {},
     "output_type": "execute_result"
    }
   ],
   "source": [
    "let insertion_abr abr x =\n",
    "  let b, g, d = partitionne_abr x abr in\n",
    "  Noeud(x, g, d) ;;"
   ]
  },
  {
   "cell_type": "markdown",
   "metadata": {},
   "source": [
    "### Q19"
   ]
  },
  {
   "cell_type": "code",
   "execution_count": 96,
   "metadata": {
    "vscode": {
     "languageId": "ocaml"
    }
   },
   "outputs": [
    {
     "data": {
      "text/plain": [
       "val union_abr : abr -> abr -> abr = <fun>\n"
      ]
     },
     "execution_count": 96,
     "metadata": {},
     "output_type": "execute_result"
    }
   ],
   "source": [
    "let rec union_abr a1 a2 =\n",
    "  match a2 with\n",
    "  |Nil -> a1\n",
    "  |Noeud(x, g, d) -> union_abr (union_abr (insertion_abr a1 x) g) d\n",
    "  "
   ]
  },
  {
   "cell_type": "markdown",
   "metadata": {
    "vscode": {
     "languageId": "ocaml"
    }
   },
   "source": [
    "### Q20\n",
    "\n",
    "Si un noeud est à la profondeur $k \\in \\llbracket 0 ,\\, p \\rrbracket$, alors ce noeud peut avoir pour numéro tous les $i$ tel que $2^{k} \\leq i < 2^{k + 1}$. Le sous-arbre dont la racine à le numéro $i$ sera alors un arbre binaire complet de profondeur $p-k$, il aura donc $2^{p-k} = 2^{p - \\log_2{i}}$ feuilles.\n",
    "\n",
    "### Q21\n",
    "\n",
    "Soit $i \\in \\llbracket 1 ,\\, 2^p - 1 \\rrbracket$, alors le noeud de numéro $i$ a pour fils gauche, fils droit et père, les noeuds de numéro respectif, $2i$, $2i + 1$, et $ \\lfloor i/2 \\rfloor$.\n",
    "\n",
    "### Q22"
   ]
  },
  {
   "cell_type": "code",
   "execution_count": 97,
   "metadata": {
    "vscode": {
     "languageId": "ocaml"
    }
   },
   "outputs": [
    {
     "data": {
      "text/plain": [
       "type ensemble = bool array\n"
      ]
     },
     "execution_count": 97,
     "metadata": {},
     "output_type": "execute_result"
    },
    {
     "data": {
      "text/plain": [
       "val appartient : 'a array -> int -> 'a = <fun>\n"
      ]
     },
     "execution_count": 97,
     "metadata": {},
     "output_type": "execute_result"
    }
   ],
   "source": [
    "type ensemble = bool array ;;\n",
    "\n",
    "let appartient e x =\n",
    "  let deux_p = (Array.length e)/2 in\n",
    "  e.(x + deux_p) ;;"
   ]
  },
  {
   "cell_type": "markdown",
   "metadata": {},
   "source": [
    "La complexité de cette fonction est en $O(1)$.\n",
    "\n",
    "### Q23"
   ]
  },
  {
   "cell_type": "code",
   "execution_count": 4,
   "metadata": {
    "vscode": {
     "languageId": "ocaml"
    }
   },
   "outputs": [
    {
     "data": {
      "text/plain": [
       "val fabrique : int list -> int -> bool array = <fun>\n"
      ]
     },
     "execution_count": 4,
     "metadata": {},
     "output_type": "execute_result"
    },
    {
     "data": {
      "text/plain": [
       "val test : bool array =\n",
       "  [|true; true; true; true; true; true; true; true; true; true; true; true;\n",
       "    true; true; true; true|]\n"
      ]
     },
     "execution_count": 4,
     "metadata": {},
     "output_type": "execute_result"
    }
   ],
   "source": [
    "let fabrique l deux_p =\n",
    "  let e = Array.make (2 * deux_p) false in\n",
    "  List.iter (fun t -> e.(t + deux_p) <- true) l ;\n",
    "  for i = 1 to deux_p do\n",
    "    let j = deux_p - i in\n",
    "    e.(j) <- e.(2 * j) || e.(2 * j + 1)\n",
    "  done;\n",
    "  e ;;\n",
    "\n",
    "let test = fabrique [0; 1; 2; 3; 4; 5; 6; 7] 8"
   ]
  },
  {
   "cell_type": "markdown",
   "metadata": {},
   "source": [
    "### Q24"
   ]
  },
  {
   "cell_type": "code",
   "execution_count": 6,
   "metadata": {
    "vscode": {
     "languageId": "ocaml"
    }
   },
   "outputs": [
    {
     "data": {
      "text/plain": [
       "val insere : bool array -> int -> bool array = <fun>\n"
      ]
     },
     "execution_count": 6,
     "metadata": {},
     "output_type": "execute_result"
    }
   ],
   "source": [
    "let insere e x = \n",
    "  let deux_p = (Array.length e)/2 in \n",
    "  let i = ref (x + deux_p) in\n",
    "  while not e.(!i) do \n",
    "    e.(!i) <- true;\n",
    "    i := !i / 2\n",
    "  done;\n",
    "  e ;;\n",
    "    "
   ]
  },
  {
   "cell_type": "markdown",
   "metadata": {},
   "source": [
    "### Q25"
   ]
  },
  {
   "cell_type": "code",
   "execution_count": 128,
   "metadata": {
    "vscode": {
     "languageId": "ocaml"
    }
   },
   "outputs": [
    {
     "data": {
      "text/plain": [
       "val supprime : bool array -> int -> bool array = <fun>\n"
      ]
     },
     "execution_count": 128,
     "metadata": {},
     "output_type": "execute_result"
    }
   ],
   "source": [
    "let supprime e x =\n",
    "  if not (appartient e x) then e else \n",
    "    let deux_p = (Array.length e)/2 in\n",
    "    e.(x + deux_p) <- false;\n",
    "    let i = ref ((x + deux_p)/2) in\n",
    "    while !i > 1 do\n",
    "      e.(!i) <- e.(2* !i) || e.(2 * !i + 1);\n",
    "      i := !i / 2;\n",
    "    done;\n",
    "    e ;;"
   ]
  },
  {
   "cell_type": "markdown",
   "metadata": {},
   "source": [
    "Dans le pire des cas cette fonction est en $O(p)$\n",
    "\n",
    "### Q26"
   ]
  },
  {
   "cell_type": "code",
   "execution_count": 129,
   "metadata": {
    "vscode": {
     "languageId": "ocaml"
    }
   },
   "outputs": [
    {
     "data": {
      "text/plain": [
       "val minlocal : bool array -> int -> int = <fun>\n"
      ]
     },
     "execution_count": 129,
     "metadata": {},
     "output_type": "execute_result"
    }
   ],
   "source": [
    "let minlocal e i =\n",
    "  if i <= 0 then failwith \"Le numéro de noeud i est incorrect\" else\n",
    "  if not e.(i) then -1 else\n",
    "  let deux_p = (Array.length e)/2 in\n",
    "  let j = ref i in\n",
    "  while !j < deux_p do\n",
    "    if e.(2 * !j) then j := 2 * !j else j := 2 * !j + 1\n",
    "  done;\n",
    "  !j - deux_p ;;"
   ]
  },
  {
   "cell_type": "markdown",
   "metadata": {},
   "source": [
    "Cette fonction est un $O(p-\\ln(i))$\n",
    "\n",
    "### Q27\n",
    "\n",
    "flemme\n",
    "\n",
    "### Q28"
   ]
  },
  {
   "cell_type": "code",
   "execution_count": 133,
   "metadata": {
    "vscode": {
     "languageId": "ocaml"
    }
   },
   "outputs": [
    {
     "data": {
      "text/plain": [
       "val successeur : bool array -> int -> int = <fun>\n"
      ]
     },
     "execution_count": 133,
     "metadata": {},
     "output_type": "execute_result"
    }
   ],
   "source": [
    "let successeur e x =\n",
    "  let deux_p = ref (Array.length e) in\n",
    "  let i = ref (x + !deux_p / 2) in\n",
    "  while !i < (!deux_p - 1) && not e.(!i + 1) do\n",
    "    i := !i / 2;\n",
    "    deux_p := !deux_p / 2;\n",
    "  done;\n",
    "  if !i = !deux_p - 1 then -1 else minlocal e (!i + 1) ;;"
   ]
  },
  {
   "cell_type": "markdown",
   "metadata": {},
   "source": [
    "### Q29\n",
    "\n",
    "### Q30"
   ]
  },
  {
   "cell_type": "code",
   "execution_count": 134,
   "metadata": {
    "vscode": {
     "languageId": "ocaml"
    }
   },
   "outputs": [
    {
     "data": {
      "text/plain": [
       "val cardinal : bool array -> int = <fun>\n"
      ]
     },
     "execution_count": 134,
     "metadata": {},
     "output_type": "execute_result"
    }
   ],
   "source": [
    "let cardinal e = \n",
    "  let rec aux x =\n",
    "    match successeur e x with\n",
    "    | -1 -> 0\n",
    "    |s -> 1 + aux s\n",
    "  in\n",
    "  aux (-1);"
   ]
  }
 ],
 "metadata": {
  "kernelspec": {
   "display_name": "OCaml ocaml_jupyter",
   "language": "OCaml",
   "name": "ocaml-jupyter-ocaml_jupyter"
  },
  "language_info": {
   "codemirror_mode": "text/x-ocaml",
   "file_extension": ".ml",
   "mimetype": "text/x-ocaml",
   "name": "OCaml",
   "nbconverter_exporter": null,
   "pygments_lexer": "OCaml",
   "version": "4.14.1"
  },
  "orig_nbformat": 4
 },
 "nbformat": 4,
 "nbformat_minor": 2
}
