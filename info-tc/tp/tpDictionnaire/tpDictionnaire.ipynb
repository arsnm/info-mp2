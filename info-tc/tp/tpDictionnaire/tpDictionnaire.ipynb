{
 "cells": [
  {
   "cell_type": "markdown",
   "metadata": {},
   "source": [
    "# TP : Dictionnaire"
   ]
  },
  {
   "cell_type": "markdown",
   "metadata": {},
   "source": [
    "## Internationalisation"
   ]
  },
  {
   "cell_type": "markdown",
   "metadata": {},
   "source": [
    " Exercice\n",
    "\n",
    "1. Définir un dictionnaire `fr_to_en` contenant chaque jour de la semaine (en français) avec sa traduction en anglais.  \n",
    "2. Vérifier que `fr_to_en[\"lundi\"]` contient `\"monday\"`.  \n",
    "3. Ajouter les mois avec leurs traductions.\n"
   ]
  },
  {
   "cell_type": "code",
   "execution_count": 6,
   "metadata": {},
   "outputs": [],
   "source": [
    "fr_to_en = {\n",
    "    \"lundi\" : \"Monday\",\n",
    "    \"mardi\" : \"Tuesday\",\n",
    "    \"mercredi\" : \"Wednesday\",\n",
    "    \"jeudi\" : \"Thursday\",\n",
    "    \"vendredi\" : \"Friday\",\n",
    "    \"samedi\" : \"Saturday\",\n",
    "    \"dimanche\" : \"Sunday\",\n",
    "    \"janvier\" : \"January\",\n",
    "    \"février\" : \"February\",\n",
    "    \"mars\" : \"March\",\n",
    "    \"avril\" : \"April\",\n",
    "    \"mai\" : \"May\",\n",
    "    \"juin\" : \"June\",\n",
    "    \"juillet\" : \"July\",\n",
    "    \"août\" : \"August\",\n",
    "    \"septembre\" : \"September\",\n",
    "    \"octobre\" : \"October\",\n",
    "    \"novembre\" : \"November\",\n",
    "    \"décembre\" : \"December\"\n",
    "\n",
    "}"
   ]
  },
  {
   "cell_type": "markdown",
   "metadata": {},
   "source": [
    "## Anagramme\n",
    "\n",
    "On rappelle qu'on peut parcourir les lettres d'une chaîne de caractères avec une boucle  for   :"
   ]
  },
  {
   "cell_type": "code",
   "execution_count": 7,
   "metadata": {},
   "outputs": [
    {
     "name": "stdout",
     "output_type": "stream",
     "text": [
      "l\n",
      "a\n",
      "m\n",
      "a\n",
      "r\n",
      "t\n",
      "i\n",
      "n\n",
      "l\n",
      "a\n",
      "m\n",
      "a\n",
      "r\n",
      "t\n",
      "i\n",
      "n\n"
     ]
    }
   ],
   "source": [
    "s = \"lamartin\"\n",
    "for c in s: # en parcourant directement les caractères\n",
    "    print(c)\n",
    "for i in range(len(s)): # en parcourant les indices\n",
    "    print(s[i])"
   ]
  },
  {
   "cell_type": "markdown",
   "metadata": {},
   "source": [
    " Exercice\n",
    " Écrire une fonction `anagramme(m1, m2)` qui teste si deux mots (des chaînes de caractères) sont des anagrammes, c'est-à-dire s'ils contiennent les mêmes lettres (avec le même nombre d'occurence de chaque lettre). Par exemple, `anagramme(\"ordre\", \"dorer\")` doit renvoyer `True`.  \n",
    "Cette fonction doit être en O($n_1 + n_2$), où $n_1$, $n_2$ sont les tailles de `m1`, `m2`.  \n",
    "**Aide** : On pourra utiliser deux dictionnaires pour compter le nombre d'apparitions de chaque lettre dans `m1` et `m2`, puis vérifier que ces deux dictionnaires contiennent les mêmes associations (clé, valeur).\n"
   ]
  },
  {
   "cell_type": "code",
   "execution_count": 8,
   "metadata": {},
   "outputs": [],
   "source": [
    "def anagramme(m1:str, m2:str) -> bool:\n",
    "    occ_1 = {}\n",
    "    for char in m1:\n",
    "        if char in occ_1:\n",
    "            occ_1[char] += 1\n",
    "        else:\n",
    "            occ_1[char] = 1\n",
    "    for char in m2:\n",
    "        if char not in occ_1:\n",
    "            return False\n",
    "        else:\n",
    "            occ_1[char] -= 1\n",
    "    for char in occ_1:\n",
    "        if occ_1[char] != 0:\n",
    "            return False\n",
    "    return True"
   ]
  },
  {
   "cell_type": "markdown",
   "metadata": {},
   "source": [
    "## Trie (arbre préfixe) \n",
    "\n",
    "### Arbres enracinés\n",
    "\n",
    "Un **arbre** est un graphe ayant deux propriétés supplémentaires :  \n",
    "- **Connexe** : il existe un chemin entre deux sommets quelconques  \n",
    "- **Acyclique** : il ne contient pas de cycle\n",
    "\n",
    "On considère souvent des **arbres enracinés**, c'est-à-dire ayant un sommet particulier appelé la **racine**, qu'on représente en haut de l'arbre :\n",
    "\n",
    "<center><img src=https://raw.githubusercontent.com/fortierq/tikz-pdf/main/tree/ntree/ntree.png width=70%><br>\n",
    "Exemple d'arbre, ayant pour racine 0</center>\n",
    "\n",
    "Chaque sommet différent de la racine possède un **père**, qui est le sommet juste au dessus. Sur l'exemple, 0 est le père de 1, 1 est le père de 7...\n",
    "\n",
    "Si p est le père de v, on dit aussi que v est un **fils** de p. Chaque sommet a au plus un père, mais peut avoir un nombre quelconque de fils."
   ]
  },
  {
   "cell_type": "markdown",
   "metadata": {},
   "source": [
    "\n",
    "### Trie\n",
    "\n",
    "Un **trie** sert à stocker un ensemble de mots sous forme d'arbre. Chaque arête est etiquetée par une lettre et les mots appartenant au trie sont ceux obtenus le long d'un chemin de la racine à une arête étiqueté par $.  \n",
    "Par exemple, l'arbre suivant contient les mots cap, copie, copier, copies, cor, corde, corne, correct, correcte :"
   ]
  },
  {
   "cell_type": "markdown",
   "metadata": {},
   "source": [
    "\n",
    "<center><img src=https://github.com/fortierq/cours/blob/main/python/dict/tp/trie.png?raw=true width=60%></center>\n",
    "\n",
    "**Remarque** : les tries sont utilisés pour la complétion automatique (proposition de complétion d'un mot en cours d'écriture, par exemple sur téléphone), pour la correction orthographique..."
   ]
  },
  {
   "cell_type": "markdown",
   "metadata": {},
   "source": [
    "Pour stocker un trie, on utilisera un dictionnaire où chaque clé est l'étiquette d'une arête sortant de la racine et la valeur est le dictionnaire correspondant au fils. Une feuille (sommet sans fils) est représentée par le dictionnaire vide.  \n",
    "\n",
    "Par exemple, le trie contenant l'ensemble de mots $\\{$ car, cat, cd, ok $\\}$ est représenté par :"
   ]
  },
  {
   "cell_type": "code",
   "execution_count": 9,
   "metadata": {},
   "outputs": [
    {
     "data": {
      "text/plain": [
       "{'c': {'a': {'r': {'$': {}}, 't': {'$': {}}}, 'd': {'$': {}}},\n",
       " 'o': {'k': {'$': {}}}}"
      ]
     },
     "execution_count": 9,
     "metadata": {},
     "output_type": "execute_result"
    }
   ],
   "source": [
    "{ \n",
    "    \"c\" : { \n",
    "        \"a\" : {\n",
    "            \"r\" : { \"$\" : {} },\n",
    "            \"t\" : { \"$\" : {} }\n",
    "        },\n",
    "        \"d\" : { \"$\" : {} }\n",
    "    },\n",
    "    \"o\" : { \n",
    "        \"k\" : { \"$\" : {} }\n",
    "    }\n",
    "}"
   ]
  },
  {
   "cell_type": "markdown",
   "metadata": {},
   "source": [
    " Exercice\n",
    "  \n",
    "1. Dessiner le trie contenant les mots art, axe, set.  \n",
    "2. Définir ce trie sous forme d'un dictionnaire.\n"
   ]
  },
  {
   "cell_type": "code",
   "execution_count": 10,
   "metadata": {},
   "outputs": [
    {
     "data": {
      "text/plain": [
       "{'a': {'r': {'t': {'$': {}}}, 'x': {'e': {'$': {}}}},\n",
       " 's': {'e': {'t': {'$': {}}}}}"
      ]
     },
     "execution_count": 10,
     "metadata": {},
     "output_type": "execute_result"
    }
   ],
   "source": [
    "{\n",
    "    \"a\" : {\n",
    "        \"r\" : {\n",
    "            \"t\" : { \"$\" : {} }\n",
    "        },\n",
    "        \"x\" : {\n",
    "            \"e\" : { \"$\" : {} }\n",
    "        }\n",
    "    },\n",
    "    \"s\" : {\n",
    "        \"e\" : {\n",
    "            \"t\" : { \"$\" : {} }\n",
    "        }\n",
    "    }\n",
    "}"
   ]
  },
  {
   "cell_type": "markdown",
   "metadata": {},
   "source": [
    " Exercice\n",
    " Écrire une fonction `trie_add(trie, m)` pour ajouter un mot `m` dans un trie. On pourra compléter le code ci-dessous.\n"
   ]
  },
  {
   "cell_type": "code",
   "execution_count": 11,
   "metadata": {},
   "outputs": [],
   "source": [
    "def trie_add(trie, m):\n",
    "    if m != \"\":\n",
    "        m += \"$\"\n",
    "    for c in m: # parcours des lettres c de m\n",
    "        if c not in trie: # s'il n'y a pas d'arête sortante de trie étiquetée par c\n",
    "            trie[c] = {} # créer une nouvelle association (c, dictionnaire vide)\n",
    "        trie = trie[c] # descendre dans l'arbre suivant la lettre c"
   ]
  },
  {
   "cell_type": "markdown",
   "metadata": {},
   "source": [
    " Exercice\n",
    " En utilisant `trie_add`, définir un trie contenant les mots `\"arbre\"`, `\"arete\"`, `\"graphe\"`.\n"
   ]
  },
  {
   "cell_type": "code",
   "execution_count": 21,
   "metadata": {},
   "outputs": [
    {
     "name": "stdout",
     "output_type": "stream",
     "text": [
      "{'a': {'r': {'b': {'r': {'e': {'$': {}}}}, 'e': {'t': {'e': {'$': {}}}}}}, 'g': {'r': {'a': {'p': {'h': {'e': {'$': {}}}}}}}, 't': {'e': {'s': {'t': {'$': {}}}}}, 'm': {'o': {'t': {'s': {'$': {}}, '$': {}}, 'q': {'u': {'e': {'r': {'$': {}}}}}, 'r': {'t': {'$': {}, 's': {'$': {}}}}}}}\n"
     ]
    }
   ],
   "source": [
    "mots = [\"arbre\", \"arete\", \"graphe\", \"test\", \"mots\", \"mot\", \"moquer\", \"mort\", \"morts\"]\n",
    "trie = {}\n",
    "for mot in mots:\n",
    "    trie_add(trie, mot)\n",
    "\n",
    "print(trie)"
   ]
  },
  {
   "cell_type": "markdown",
   "metadata": {},
   "source": [
    " Exercice\n",
    " Écrire une fonction `trie_print(trie)` pour afficher les mots `m` appartenant à un trie. Vérifier avec l'exemple précédent.\n"
   ]
  },
  {
   "cell_type": "code",
   "execution_count": 22,
   "metadata": {},
   "outputs": [
    {
     "name": "stdout",
     "output_type": "stream",
     "text": [
      "arbre\n",
      "arete\n",
      "graphe\n",
      "test\n",
      "mots\n",
      "mot\n",
      "moquer\n",
      "mort\n",
      "morts\n"
     ]
    }
   ],
   "source": [
    "def trie_print(trie):\n",
    "    def aux (trie, buffer):\n",
    "        for char in trie:\n",
    "            if char == \"$\":\n",
    "                print(buffer)\n",
    "            else:\n",
    "                aux(trie[char], buffer + char)\n",
    "    aux(trie, \"\")\n",
    "\n",
    "trie_print(trie)"
   ]
  },
  {
   "cell_type": "markdown",
   "metadata": {},
   "source": [
    " Exercice\n",
    " Écrire une fonction `trie_size(trie)` pour afficher le nombre de mots appartenant à un trie.\n"
   ]
  },
  {
   "cell_type": "code",
   "execution_count": 23,
   "metadata": {},
   "outputs": [
    {
     "data": {
      "text/plain": [
       "9"
      ]
     },
     "execution_count": 23,
     "metadata": {},
     "output_type": "execute_result"
    }
   ],
   "source": [
    "def trie_size(trie):\n",
    "    size = 0\n",
    "    def aux (trie):\n",
    "        nonlocal size\n",
    "        for char in trie:\n",
    "            if char == \"$\":\n",
    "                size = size + 1\n",
    "            else:\n",
    "                aux(trie[char])\n",
    "    aux(trie)\n",
    "    return size\n",
    "\n",
    "trie_size(trie)"
   ]
  },
  {
   "cell_type": "markdown",
   "metadata": {},
   "source": [
    " Exercice\n",
    " Écrire une fonction `trie_has(trie, m)` pour tester si `m` appartient à un trie.\n"
   ]
  },
  {
   "cell_type": "code",
   "execution_count": 27,
   "metadata": {},
   "outputs": [
    {
     "data": {
      "text/plain": [
       "False"
      ]
     },
     "execution_count": 27,
     "metadata": {},
     "output_type": "execute_result"
    }
   ],
   "source": [
    "def trie_has(trie, m):\n",
    "    for char in m:\n",
    "        if char in trie:\n",
    "            trie = trie[char]\n",
    "        else:\n",
    "            return False\n",
    "    return (\"$\" in trie)\n",
    "\n",
    "trie_has(trie, \"mot\")\n",
    "trie_has(trie, \"motte\")"
   ]
  },
  {
   "cell_type": "markdown",
   "metadata": {},
   "source": [
    " Exercice\n",
    " (MP/MP* Option info seulement) Quelles sont les autres possibilités pour implémenter un ensemble de mots ? Pourquoi un trie est-il intéressant ? On pourra supposer que les lettres sont entre a et z.\n"
   ]
  },
  {
   "cell_type": "markdown",
   "metadata": {},
   "source": [
    "## Algorithme d'Ératosthène"
   ]
  },
  {
   "cell_type": "markdown",
   "metadata": {},
   "source": [
    " Exercice\n",
    " Écrire une fonction `eratosthene(n)` renvoyant un ensemble (`set`) contenant les nombres premiers inférieurs à `n`, en utilisant le [crible d'Ératosthène](https://fr.wikipedia.org/wiki/Crible_d%27%C3%89ratosth%C3%A8ne).\n"
   ]
  },
  {
   "cell_type": "code",
   "execution_count": 18,
   "metadata": {},
   "outputs": [
    {
     "data": {
      "text/plain": [
       "{2, 3, 5, 7, 11, 13, 17, 19, 23, 29, 31, 37, 41, 43, 47, 53, 59}"
      ]
     },
     "execution_count": 18,
     "metadata": {},
     "output_type": "execute_result"
    }
   ],
   "source": [
    "def eratosthene(n):\n",
    "    L = [True] * (n + 1)\n",
    "    L[0], L[1] = False, False\n",
    "    i = 2\n",
    "    while i * i <= n:\n",
    "        if L[i]:\n",
    "            for j in range(i*i, n + 1, i):\n",
    "                L[j] = False\n",
    "        i += 1\n",
    "    return set([i for i in range(len(L)) if L[i]])\n",
    "\n",
    "eratosthene(59)"
   ]
  }
 ],
 "metadata": {
  "kernelspec": {
   "display_name": "Python 3.9.2 64-bit",
   "language": "python",
   "name": "python3"
  },
  "language_info": {
   "codemirror_mode": {
    "name": "ipython",
    "version": 3
   },
   "file_extension": ".py",
   "mimetype": "text/x-python",
   "name": "python",
   "nbconvert_exporter": "python",
   "pygments_lexer": "ipython3",
   "version": "3.11.4"
  },
  "vscode": {
   "interpreter": {
    "hash": "31f2aee4e71d21fbe5cf8b01ff0e069b9275f58929596ceb00d14d90e3e16cd6"
   }
  }
 },
 "nbformat": 4,
 "nbformat_minor": 2
}
