{
 "cells": [
  {
   "cell_type": "markdown",
   "metadata": {},
   "source": [
    "# TP - Exercices de Programmation Dynamique\n",
    "\n",
    "## Fonctions partielles"
   ]
  },
  {
   "cell_type": "code",
   "execution_count": 2,
   "metadata": {},
   "outputs": [],
   "source": [
    "def sup(f):\n",
    "    maximum = - float(\"inf\")\n",
    "    for i in f:\n",
    "        maximum = max(maximum, f[i])\n",
    "    return maximum\n",
    "        "
   ]
  },
  {
   "cell_type": "code",
   "execution_count": 4,
   "metadata": {},
   "outputs": [],
   "source": [
    "def ker(f):\n",
    "    return [i for i in f.keys() if f(i) == 0]"
   ]
  },
  {
   "cell_type": "code",
   "execution_count": 6,
   "metadata": {},
   "outputs": [],
   "source": [
    "def injective(f):\n",
    "    f_values = {}\n",
    "    for i in f:\n",
    "        f_values[f(i)] = None\n",
    "    return len(f) == len(f_values)"
   ]
  },
  {
   "cell_type": "code",
   "execution_count": 7,
   "metadata": {},
   "outputs": [],
   "source": [
    "def inverse(f):\n",
    "    if injective(f):\n",
    "        f_inverse = {}\n",
    "        for i in f:\n",
    "            f_inverse[f(i)] = i\n",
    "    else:\n",
    "        f_inverse = None\n",
    "    return f_inverse"
   ]
  },
  {
   "cell_type": "markdown",
   "metadata": {},
   "source": [
    "## Nombre de Partitions\n",
    "\n",
    "1. $p_{n, 1} = 1$, $p_{n, n} = n$\n",
    "\n",
    "2. "
   ]
  },
  {
   "cell_type": "code",
   "execution_count": 1,
   "metadata": {},
   "outputs": [],
   "source": [
    "def simple_p(n, k):\n",
    "    if k == 1:\n",
    "        return 1\n",
    "    elif  k == n:\n",
    "        return n\n",
    "    else:\n",
    "        return simple_p(n - 1, k - 1) + k * simple_p(n - 1, k)"
   ]
  },
  {
   "cell_type": "code",
   "execution_count": 2,
   "metadata": {},
   "outputs": [],
   "source": [
    "def p_dynamique(n, k):\n",
    "    M = [[0] * (k + 1) for _ in range(n + 1)]\n",
    "    for i in range(n + 1):\n",
    "        for j in range(k + 1):\n",
    "            if j == 0:\n",
    "                M[i][j] = 1\n",
    "            elif j == i:\n",
    "                M[i][j] = i\n",
    "            else:\n",
    "                M[i][j] = M[i - 1][j - 1] + i * M[i - 1][j]\n",
    "    return M[n][k]"
   ]
  },
  {
   "cell_type": "markdown",
   "metadata": {},
   "source": [
    "6. On remplit une matrice de taile $n + 1 \\times k + 1$, c'est donc une complexité en $O(nk)$"
   ]
  },
  {
   "cell_type": "code",
   "execution_count": 4,
   "metadata": {},
   "outputs": [],
   "source": [
    "def partition(L):\n",
    "    values_taken = {}\n",
    "    for set in L:\n",
    "        for i in set:\n",
    "            if i not in values_taken:\n",
    "                values_taken[i] = None\n",
    "            else:\n",
    "                return False\n",
    "    n = len(values_taken)\n",
    "    for i in range(1, n + 1):\n",
    "        if i not in values_taken:\n",
    "            return False\n",
    "    return True"
   ]
  }
 ],
 "metadata": {
  "kernelspec": {
   "display_name": "cs_school",
   "language": "python",
   "name": "python3"
  },
  "language_info": {
   "codemirror_mode": {
    "name": "ipython",
    "version": 3
   },
   "file_extension": ".py",
   "mimetype": "text/x-python",
   "name": "python",
   "nbconvert_exporter": "python",
   "pygments_lexer": "ipython3",
   "version": "3.11.4"
  }
 },
 "nbformat": 4,
 "nbformat_minor": 2
}
