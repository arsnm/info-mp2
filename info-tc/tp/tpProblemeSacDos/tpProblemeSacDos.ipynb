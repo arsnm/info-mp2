{
 "cells": [
  {
   "cell_type": "markdown",
   "metadata": {},
   "source": [
    "# TP 2 : Problème du sac à dos\n",
    "\n",
    "<center><img src=https://upload.wikimedia.org/wikipedia/commons/thumb/f/fd/Knapsack.svg/486px-Knapsack.svg.png width=250></center>\n",
    "\n",
    "On rappelle le problème du sac à dos :\n",
    "- **Entrée** : une capacité $c$ et des objets de poids $w_1, ..., w_n$ et valeurs $v_1$, ..., $v_n$.\n",
    "- **Sortie** : la valeur maximum que l'on peut mettre dans un sac de capacité $c$.  \n",
    "\n",
    "$c$ est le poids total maximum que l'on peut peut mettre dans le sac \n",
    "\n",
    "L'objectif du TP est de comparer l'algorithme de programmation dynamique vu en cours à des algorithmes gloutons."
   ]
  },
  {
   "cell_type": "markdown",
   "metadata": {},
   "source": [
    "### Algorithmes gloutons\n",
    "\n",
    "Un algorithme glouton consiste à ajouter des objets un par un au sac, en choisissant à chaque étape l'objet qui a l'air le plus intéressant, si son poids n'excède pas la capacité restante du sac.  \n",
    "Suivant l'ordre dans lequel on choisit les objets, on obtient des algorithmes gloutons différents."
   ]
  },
  {
   "cell_type": "markdown",
   "metadata": {},
   "source": [
    "````{admonition} Question\n",
    " Écrire une fonction `glouton(c, w, v)` qui renvoie la valeur totale des objets choisis par l'algorithme glouton, en considérant les objets dans l'ordre donné par `w` et `v` (on regarde d'abord l'objet de poids `w[0]` et valeur `v[0]`, puis l'objet de poids `w[1]` et valeur `v[1]`...).\n",
    "Tester avec l'exemple ci-dessous. Le résultat est-il optimal ?\n",
    "````"
   ]
  },
  {
   "cell_type": "code",
   "execution_count": 1,
   "metadata": {},
   "outputs": [],
   "source": [
    "def glouton(c, w, v):\n",
    "    value = 0\n",
    "    weight = 0\n",
    "    for object in range(len(w)):\n",
    "        if weight + w[object] <= c:\n",
    "            weight += w[object]\n",
    "            value += v[object]\n",
    "    return value"
   ]
  },
  {
   "cell_type": "code",
   "execution_count": 2,
   "metadata": {},
   "outputs": [
    {
     "data": {
      "text/plain": [
       "8"
      ]
     },
     "execution_count": 2,
     "metadata": {},
     "output_type": "execute_result"
    }
   ],
   "source": [
    "glouton(10, [5, 3, 6], [4, 4, 6])"
   ]
  },
  {
   "cell_type": "markdown",
   "metadata": {},
   "source": [
    "### Tri des objets"
   ]
  },
  {
   "cell_type": "markdown",
   "metadata": {},
   "source": [
    "````{admonition} Question\n",
    " Écrire une fonction `combine(L1, L2)` qui renvoie la liste des couples `(L1[i], L2[i])`. On suppose que `L1` et `L2` ont la même longueur.\n",
    "````"
   ]
  },
  {
   "cell_type": "code",
   "execution_count": 3,
   "metadata": {},
   "outputs": [],
   "source": [
    "def combine(L1, L2):\n",
    "    L_combined = []\n",
    "    for i in range(len(L1)):\n",
    "        L_combined.append((L1[i], L2[i]))\n",
    "    return L_combined"
   ]
  },
  {
   "cell_type": "code",
   "execution_count": 4,
   "metadata": {},
   "outputs": [
    {
     "data": {
      "text/plain": [
       "[(1, 4), (2, 5), (3, 6)]"
      ]
     },
     "execution_count": 4,
     "metadata": {},
     "output_type": "execute_result"
    }
   ],
   "source": [
    "combine([1, 2, 3], [4, 5, 6])"
   ]
  },
  {
   "cell_type": "markdown",
   "metadata": {},
   "source": [
    "````{admonition} Question\n",
    " Écrire une fonction `split(L)` telle que si `L` est une liste de couples, `split(L)` renvoie deux listes `L1` et `L2` où `L1` contient les premiers éléments des couples de `L` et `L2` les seconds éléments des couples de `L`.\n",
    "````"
   ]
  },
  {
   "cell_type": "code",
   "execution_count": 5,
   "metadata": {},
   "outputs": [],
   "source": [
    "def split(L):\n",
    "    L1, L2 = [], []\n",
    "    for i in range(len(L)):\n",
    "        L1.append(L[i][0])\n",
    "        L2.append(L[i][1])\n",
    "    return L1, L2"
   ]
  },
  {
   "cell_type": "code",
   "execution_count": 6,
   "metadata": {},
   "outputs": [
    {
     "data": {
      "text/plain": [
       "([1, 2, 3], [4, 5, 6])"
      ]
     },
     "execution_count": 6,
     "metadata": {},
     "output_type": "execute_result"
    }
   ],
   "source": [
    "split([(1, 4), (2, 5), (3, 6)])"
   ]
  },
  {
   "cell_type": "markdown",
   "metadata": {},
   "source": [
    "Si `L` est une liste, `L.sort()` trie `L` par ordre croissant (`L.sort(reverse=True)` pour trier par ordre décroissant). Si `L` contient des couples, la liste est triée suivant le premier élément de chaque couple (ordre lexicographique).  \n",
    "Exemple :"
   ]
  },
  {
   "cell_type": "code",
   "execution_count": 7,
   "metadata": {},
   "outputs": [
    {
     "data": {
      "text/plain": [
       "[(1, 4), (3, 6), (7, 5)]"
      ]
     },
     "execution_count": 7,
     "metadata": {},
     "output_type": "execute_result"
    }
   ],
   "source": [
    "L = [(1, 4), (7, 5), (3, 6)]\n",
    "L.sort()\n",
    "L # trié suivant le 1er élément de chaque couple"
   ]
  },
  {
   "cell_type": "markdown",
   "metadata": {},
   "source": [
    "````{admonition} Question\n",
    " Écrire une fonction `tri_poids(w, v)` qui renvoie les listes `w2` et `v2` obtenues à partir de `w` et `v` en triant les poids par ordre croissant. On utilisera `L.sort`, `combine` et `split`.\n",
    "````"
   ]
  },
  {
   "cell_type": "code",
   "execution_count": 8,
   "metadata": {},
   "outputs": [],
   "source": [
    "def tri_poids(w, v):\n",
    "    w_v_unsorted = combine(w,v)\n",
    "    w_v_unsorted.sort()\n",
    "    return split(w_v_unsorted)"
   ]
  },
  {
   "cell_type": "code",
   "execution_count": 9,
   "metadata": {},
   "outputs": [
    {
     "data": {
      "text/plain": [
       "([3, 5, 6], [0, 42, 2])"
      ]
     },
     "execution_count": 9,
     "metadata": {},
     "output_type": "execute_result"
    }
   ],
   "source": [
    "tri_poids([5, 3, 6], [42, 0, 2])"
   ]
  },
  {
   "cell_type": "markdown",
   "metadata": {},
   "source": [
    "### Stratégies gloutonnes"
   ]
  },
  {
   "attachments": {},
   "cell_type": "markdown",
   "metadata": {},
   "source": [
    "````{admonition} Question\n",
    " En déduire une fonction `glouton_poids(c, w, v)` qui renvoie la valeur totale des objets choisis par l'algorithme glouton, en considérant les objets dans l'ordre de poids croissant. On pourra réutiliser `glouton`.  \n",
    "Est-ce que cet algorithme est toujours optimal ?\n",
    "````"
   ]
  },
  {
   "cell_type": "code",
   "execution_count": 10,
   "metadata": {},
   "outputs": [],
   "source": [
    "def glouton_poids(c, w, v):\n",
    "    w_sorted, v_sorted = tri_poids(w, v)\n",
    "    return glouton(c, w_sorted, v_sorted)"
   ]
  },
  {
   "cell_type": "code",
   "execution_count": 11,
   "metadata": {},
   "outputs": [
    {
     "data": {
      "text/plain": [
       "8"
      ]
     },
     "execution_count": 11,
     "metadata": {},
     "output_type": "execute_result"
    }
   ],
   "source": [
    "glouton_poids(10, [5, 3, 6], [4, 4, 10])"
   ]
  },
  {
   "cell_type": "markdown",
   "metadata": {},
   "source": [
    "````{admonition} Question\n",
    " Écrire de même des fonctions `tri_valeur(w, v)` et `glouton_valeur(c, w, v)` qui renvoie la valeur totale des objets choisis par l'algorithme glouton, en considérant les objets dans l'ordre de valeur décroissante (en utilisant `L.sort(reverse=True)`). Est-ce que cet algorithme est toujours optimal ?\n",
    "````"
   ]
  },
  {
   "cell_type": "code",
   "execution_count": 12,
   "metadata": {},
   "outputs": [],
   "source": [
    "def tri_valeur(w, v):\n",
    "    w_v_unsorted = combine(w,v)\n",
    "    w_v_unsorted.sort(reverse=True)\n",
    "    return split(w_v_unsorted)\n",
    "\n",
    "def glouton_valeur(c, w, v):\n",
    "    w_sorted, v_sorted = tri_valeur(w, v)\n",
    "    return glouton(c, w_sorted, v_sorted)"
   ]
  },
  {
   "cell_type": "code",
   "execution_count": 13,
   "metadata": {},
   "outputs": [
    {
     "data": {
      "text/plain": [
       "6"
      ]
     },
     "execution_count": 13,
     "metadata": {},
     "output_type": "execute_result"
    }
   ],
   "source": [
    "glouton_valeur(10, [5, 4, 7], [4, 4, 6])"
   ]
  },
  {
   "cell_type": "markdown",
   "metadata": {},
   "source": [
    "````{admonition} Question\n",
    " De même, écrire une fonction `glouton_ratio(c, w, v)` qui renvoie la valeur totale des objets choisis par l'algorithme glouton, en considérant les objets dans l'ordre de ratio valeur/poids décroissant. On pourra utiliser deux fois `combine`.\n",
    "````"
   ]
  },
  {
   "cell_type": "code",
   "execution_count": 14,
   "metadata": {},
   "outputs": [],
   "source": [
    "def glouton_ratio(c, w, v):\n",
    "    w_v_ratio = [(v[i] / w[i], i) for i in range(len(w))]\n",
    "    w_v_ratio.sort(reverse=True)\n",
    "    value, weight = 0, 0\n",
    "    for i in range(len(w_v_ratio)):\n",
    "        _, object = w_v_ratio[i]\n",
    "        if weight + w[object] <= c:\n",
    "            weight += w[object]\n",
    "            value += v[object]\n",
    "    return value"
   ]
  },
  {
   "cell_type": "code",
   "execution_count": 15,
   "metadata": {},
   "outputs": [
    {
     "data": {
      "text/plain": [
       "8"
      ]
     },
     "execution_count": 15,
     "metadata": {},
     "output_type": "execute_result"
    }
   ],
   "source": [
    "glouton_ratio(10, [5, 4, 7], [4, 4, 6])"
   ]
  },
  {
   "cell_type": "markdown",
   "metadata": {},
   "source": [
    "## Programmation dynamique\n",
    "\n",
    "On rappelle le problème du sac à dos :\n",
    "- **Entrée** : une capacité $c$ et des objets de poids $w_1, ..., w_n$ et valeurs $v_1$, ..., $v_n$.\n",
    "- **Sortie** : la valeur maximum que l'on peut mettre dans un sac de capacité $c$.\n",
    "\n",
    "Soit $dp[i][j]$ la valeur maximum que l'on peut mettre dans un sac de capacité $i$, en ne considérant que les $j$ premiers objets. On suppose que les poids sont strictement positifs."
   ]
  },
  {
   "cell_type": "markdown",
   "metadata": {},
   "source": [
    "````{admonition} Question\n",
    " Que vaut $dp[i][0]$ ?\n",
    "````"
   ]
  },
  {
   "cell_type": "markdown",
   "metadata": {},
   "source": [
    "$dp[i][0] = 0$"
   ]
  },
  {
   "cell_type": "markdown",
   "metadata": {},
   "source": [
    "````{admonition} Question\n",
    " Exprimer $dp[i][j]$ en fonction de $dp[i][j-1]$ dans le cas où $w_j > i$.\n",
    "````"
   ]
  },
  {
   "cell_type": "markdown",
   "metadata": {},
   "source": [
    "$dp[i][j] = dp[i][j - 1]$"
   ]
  },
  {
   "cell_type": "markdown",
   "metadata": {},
   "source": [
    "````{admonition} Question\n",
    " Supposons $w_j \\leq i$. Donner une formule de récurrence sur $dp[i][j]$, en distinguant le cas où l'objet $j$ est choisi et le cas où il ne l'est pas.\n",
    "````"
   ]
  },
  {
   "cell_type": "markdown",
   "metadata": {},
   "source": [
    "$dp[i][j] = \\max{(dp[i][j - 1], v_j + dp[i - w_j][j - 1])}$"
   ]
  },
  {
   "cell_type": "markdown",
   "metadata": {},
   "source": [
    "````{admonition} Question\n",
    " En déduire une fonction `prog_dyn(c, w, v)` qui renvoie la valeur maximum que l'on peut mettre dans un sac de capacité $c$, en ne considérant que les $j$ premiers objets, en remplissant une matrice `dp` de taille $(c+1) \\times (n+1)$.\n",
    "````"
   ]
  },
  {
   "cell_type": "code",
   "execution_count": 16,
   "metadata": {},
   "outputs": [],
   "source": [
    "def prog_dyn(c, w, v):\n",
    "    dp = [[0]*(len(w) + 1) for _ in range(c + 1)]\n",
    "    for i in range(c + 1):\n",
    "        for j in range(1, len(w) + 1):\n",
    "            if w[j - 1] > i:\n",
    "                dp[i][j] = dp[i][j - 1]\n",
    "            else:\n",
    "                dp[i][j] = max(dp[i][j - 1], v[j - 1] + dp[i - w[j - 1]][j - 1])\n",
    "    return dp[c][len(w)]"
   ]
  },
  {
   "cell_type": "code",
   "execution_count": 17,
   "metadata": {},
   "outputs": [
    {
     "data": {
      "text/plain": [
       "8"
      ]
     },
     "execution_count": 17,
     "metadata": {},
     "output_type": "execute_result"
    }
   ],
   "source": [
    "prog_dyn(10, [5, 4, 7], [4, 4, 6])"
   ]
  },
  {
   "cell_type": "markdown",
   "metadata": {},
   "source": [
    "## Comparaison"
   ]
  },
  {
   "cell_type": "markdown",
   "metadata": {},
   "source": [
    "````{admonition} Question\n",
    " Écrire une fonction `genere_instance()` qui renvoie un triplet $(c, w, v)$, où $c$ est un entier aléatoire entre 1 et 1000 et $w$, $v$ sont des listes de 100 entiers aléatoires entre 1 et 100.  \n",
    "On importera `random` pour utiliser `random.randint(a, b)` qui génère un entier aléatoire entre $a$ et $b$ inclus.\n",
    "````"
   ]
  },
  {
   "cell_type": "code",
   "execution_count": 18,
   "metadata": {},
   "outputs": [],
   "source": [
    "from random import randint\n",
    "from time import time_ns as time\n",
    "\n",
    "def generate_instance():\n",
    "    w, v  = [randint(1, 100) for _ in range(100)], [randint(1, 100) for _ in range(100)]\n",
    "    c = randint(1, 1000)\n",
    "    return c, w, v"
   ]
  },
  {
   "cell_type": "markdown",
   "metadata": {},
   "source": [
    "````{admonition} Question\n",
    " Afficher, pour chaque stratégie gloutonne (ordre de poids, ordre de valeur, ordre de ratio), l'erreur commise par rapport à la solution optimale, en moyennant sur 100 instances générées par `genere_instance()`.  \n",
    "Quelle stratégie gloutonne est la plus efficace ?\n",
    "````"
   ]
  },
  {
   "cell_type": "code",
   "execution_count": 19,
   "metadata": {},
   "outputs": [
    {
     "name": "stdout",
     "output_type": "stream",
     "text": [
      "L'erreur de la strategie glouton par rapport à la solution optimale (moyenne sur 10 essai(s)) est : 1180.9\n",
      "L'erreur de la strategie glouton_poids par rapport à la solution optimale (moyenne sur 10 essai(s)) est : 298.9\n",
      "L'erreur de la strategie glouton_valeur par rapport à la solution optimale (moyenne sur 10 essai(s)) est : 898.6\n",
      "L'erreur de la strategie glouton_ratio par rapport à la solution optimale (moyenne sur 10 essai(s)) est : 5.3\n"
     ]
    }
   ],
   "source": [
    "def comparaison_value(method, tries):\n",
    "    error = 0\n",
    "    for _ in range(tries):\n",
    "        c, w, v = generate_instance()\n",
    "        optimal_solution = prog_dyn(c, w, v)\n",
    "        method_solution = method(c, w, v)\n",
    "        error += optimal_solution - method_solution\n",
    "    average_error = error / tries\n",
    "    print(f\"L'erreur de la strategie {method.__name__} par rapport à la solution optimale (moyenne sur {tries} essai(s)) est : {average_error}\")\n",
    "    return average_error\n",
    "\n",
    "tries = 10\n",
    "for method in [glouton, glouton_poids, glouton_valeur, glouton_ratio]:\n",
    "    error = comparaison_value(method, tries)\n",
    "        "
   ]
  },
  {
   "cell_type": "markdown",
   "metadata": {},
   "source": [
    "````{admonition} Question\n",
    " Comparer le temps total d'exécution de la stratégie gloutonne par ratio et de la programmation dynamique, sur 100 instances générées par `genere_instance()`. On pourra importer `time` et utiliser `time.time()` pour obtenir le temps actuel en secondes.\n",
    "````"
   ]
  },
  {
   "cell_type": "code",
   "execution_count": 24,
   "metadata": {},
   "outputs": [
    {
     "name": "stdout",
     "output_type": "stream",
     "text": [
      "Le temps d'execution de la strategie glouton par rapport à la solution optimale (moyenne sur 10 essai(s)) est : 6.2e+03 ns\n",
      "Le temps d'execution de la strategie glouton_poids par rapport à la solution optimale (moyenne sur 10 essai(s)) est : 4.2e+04 ns\n",
      "Le temps d'execution de la strategie glouton_valeur par rapport à la solution optimale (moyenne sur 10 essai(s)) est : 4e+04 ns\n",
      "Le temps d'execution de la strategie glouton_ratio par rapport à la solution optimale (moyenne sur 10 essai(s)) est : 3.9e+04 ns\n",
      "Le temps d'execution de la strategie prog_dyn par rapport à la solution optimale (moyenne sur 10 essai(s)) est : 8.7e+06 ns\n"
     ]
    }
   ],
   "source": [
    "def comparaison_time(method, tries):\n",
    "    sum_time = 0\n",
    "    for _ in range(tries):\n",
    "        c, w, v = generate_instance()\n",
    "        time_method = time()\n",
    "        method(c, w, v)\n",
    "        time_method = time() - time_method\n",
    "        sum_time += time_method\n",
    "    average_time = sum_time / tries\n",
    "    print(f\"Le temps d'execution de la strategie {method.__name__} par rapport à la solution optimale (moyenne sur {tries} essai(s)) est : {average_time:.2} ns\")\n",
    "    return average_time\n",
    "\n",
    "tries = 10\n",
    "for method in [glouton, glouton_poids, glouton_valeur, glouton_ratio, prog_dyn]:\n",
    "    error = comparaison_time(method, tries)"
   ]
  },
  {
   "cell_type": "markdown",
   "metadata": {},
   "source": [
    "## Obtenir la liste des objets choisis"
   ]
  },
  {
   "cell_type": "markdown",
   "metadata": {},
   "source": [
    "````{admonition} Question\n",
    " Réécrire la fonction `prog_dyn(c, w, v)` pour qu'elle renvoie la liste des objets choisis. Pour cela, on peut construire la matrice `dp` et remarquer que :  \n",
    "- si $dp[i][j] = dp[i][j-1]$, alors l'objet $j$ n'est pas choisi ;\n",
    "- si $dp[i][j] = dp[i - w_j][j - 1] + v_j$, alors l'objet $j$ est choisi.  \n",
    "On peut donc construire la liste des objets choisis en remontant la matrice `dp` à partir de la case $(c, n)$.\n",
    "````"
   ]
  },
  {
   "cell_type": "code",
   "execution_count": 21,
   "metadata": {},
   "outputs": [],
   "source": [
    "def prog_dyn_obj(c, w, v):\n",
    "    dp = [[0]*(len(w) + 1) for _ in range(c + 1)]\n",
    "    for i in range(c + 1):\n",
    "        for j in range(1, len(w) + 1):\n",
    "            if w[j - 1] > i:\n",
    "                dp[i][j] = dp[i][j - 1]\n",
    "            else:\n",
    "                dp[i][j] = max(dp[i][j - 1], v[j - 1] + dp[i - w[j - 1]][j - 1])\n",
    "    objects_taken = []\n",
    "    current_value = c\n",
    "    for j in reversed(range(len(w) + 1)):\n",
    "        if not (dp[current_value][j] == dp[current_value][j - 1]):\n",
    "            current_value -= w[j - 1]\n",
    "            objects_taken.append(j - 1)\n",
    "    return objects_taken"
   ]
  },
  {
   "cell_type": "code",
   "execution_count": 25,
   "metadata": {},
   "outputs": [
    {
     "data": {
      "text/plain": [
       "[1, 0]"
      ]
     },
     "execution_count": 25,
     "metadata": {},
     "output_type": "execute_result"
    }
   ],
   "source": [
    "prog_dyn_obj(10, [5, 4, 7], [4, 4, 6]) \n",
    "# la solution optimale consiste à choisir les objets 1 et 0"
   ]
  }
 ],
 "metadata": {
  "kernelspec": {
   "display_name": "Python 3.9.2 64-bit",
   "language": "python",
   "name": "python3"
  },
  "language_info": {
   "codemirror_mode": {
    "name": "ipython",
    "version": 3
   },
   "file_extension": ".py",
   "mimetype": "text/x-python",
   "name": "python",
   "nbconvert_exporter": "python",
   "pygments_lexer": "ipython3",
   "version": "3.11.4"
  },
  "vscode": {
   "interpreter": {
    "hash": "31f2aee4e71d21fbe5cf8b01ff0e069b9275f58929596ceb00d14d90e3e16cd6"
   }
  }
 },
 "nbformat": 4,
 "nbformat_minor": 2
}
