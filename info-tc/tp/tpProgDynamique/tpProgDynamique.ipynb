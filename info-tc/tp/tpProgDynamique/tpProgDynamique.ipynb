{
 "cells": [
  {
   "cell_type": "markdown",
   "metadata": {},
   "source": [
    "# TP : Programmation dynamique"
   ]
  },
  {
   "cell_type": "markdown",
   "metadata": {},
   "source": [
    "## Coefficient binomial\n",
    "\n",
    "On souhaite calculer $\\binom{n}{k}$ par programmation dynamique, en utilisant la formule de Pascal :\n",
    "\n",
    "$$\\binom{n}{k} = \\binom{n - 1}{k - 1} + \\binom{n - 1}{k}$$"
   ]
  },
  {
   "cell_type": "markdown",
   "metadata": {},
   "source": [
    "````{admonition} Question\n",
    " Que peut-on prendre comme cas de base ?\n",
    "````"
   ]
  },
  {
   "cell_type": "markdown",
   "metadata": {},
   "source": [
    "````{admonition} Question\n",
    " Écrire une fonction récursive `binom_rec(n, k)` renvoyant $\\binom{n}{k}$ à partir de la formule ci-dessus. Expliquer pourquoi la complexité de cette fonction est très mauvaise.\n",
    "````"
   ]
  },
  {
   "cell_type": "code",
   "execution_count": 20,
   "metadata": {},
   "outputs": [],
   "source": [
    "def binom_rec(n, k):\n",
    "    if n < 0 or k < 0 or k > n:\n",
    "        return 0\n",
    "    elif n >= 0 and k == 0:\n",
    "        return 1\n",
    "    else:\n",
    "        return binom_rec(n - 1, k - 1) + binom_rec(n - 1, k)"
   ]
  },
  {
   "cell_type": "code",
   "execution_count": 21,
   "metadata": {},
   "outputs": [
    {
     "data": {
      "text/plain": [
       "495"
      ]
     },
     "execution_count": 21,
     "metadata": {},
     "output_type": "execute_result"
    }
   ],
   "source": [
    "binom_rec(12, 4)"
   ]
  },
  {
   "cell_type": "markdown",
   "metadata": {},
   "source": [
    "````{admonition} Question\n",
    " Écrire une fonction `binom_dp(n, k)` renvoyant $\\binom{n}{k}$ en utilisant la même formule, mais par programmation dynamique.  \n",
    "Pour cela, on pourra stocker $\\binom{n}{k}$ dans une matrice (ou : un dictionnaire) et la remplir par $n$ croissant et par $k$ croissant.\n",
    "````"
   ]
  },
  {
   "cell_type": "code",
   "execution_count": 22,
   "metadata": {},
   "outputs": [],
   "source": [
    "def binom_dp(n, k):\n",
    "    M = [[0 for _ in range(k + 1)] for _ in range(n + 1)]\n",
    "    # M[i][j] contiendra j parmi i\n",
    "    for i in range(0, n + 1):\n",
    "        M[i][0] = 1 # cas de base\n",
    "        for j in range(1, k + 1):\n",
    "            M[i][j] = M[i - 1][j- 1] + M[i - 1][j] # récurrence\n",
    "    return M[n][k]"
   ]
  },
  {
   "cell_type": "code",
   "execution_count": 23,
   "metadata": {},
   "outputs": [
    {
     "data": {
      "text/plain": [
       "4355031703297275"
      ]
     },
     "execution_count": 23,
     "metadata": {},
     "output_type": "execute_result"
    }
   ],
   "source": [
    "binom_dp(56, 24)"
   ]
  },
  {
   "cell_type": "markdown",
   "metadata": {},
   "source": [
    "````{admonition} Question\n",
    " Écrire une fonction `binom_memo(n, k)` renvoyant $\\binom{n}{k}$ en utilisant le même principe, mais avec mémoïsation plutôt que programmation dynamique.\n",
    "````"
   ]
  },
  {
   "cell_type": "code",
   "execution_count": 24,
   "metadata": {},
   "outputs": [],
   "source": [
    "def binom_memo(n, k):\n",
    "    d = {} # d[(i, j)] contiendra j parmi i\n",
    "    def aux(i, j): # renvoie j parmi i\n",
    "        if i < 0 or j < 0 or j > i : # cas de base\n",
    "            d[(i, j)] = 0\n",
    "            return 0\n",
    "        elif i >= 0 and j == 0:\n",
    "            d[(i, j)] = 1\n",
    "            return 1\n",
    "        else: # dans le cas général, regarder si (i, j) est dans d : si oui, renvoyer la valeur associée, sinon la calculer et l'ajouter à d\n",
    "            if (i, j) in d:\n",
    "                return d[(i , j)]\n",
    "            else:\n",
    "                coef = aux(i - 1, j - 1) + aux(i - 1, j)\n",
    "                d[(i , j)] = coef\n",
    "                return coef\n",
    "    return aux(n, k)"
   ]
  },
  {
   "cell_type": "code",
   "execution_count": 25,
   "metadata": {},
   "outputs": [
    {
     "data": {
      "text/plain": [
       "4355031703297275"
      ]
     },
     "execution_count": 25,
     "metadata": {},
     "output_type": "execute_result"
    }
   ],
   "source": [
    "binom_memo(56, 24)"
   ]
  },
  {
   "cell_type": "markdown",
   "metadata": {},
   "source": [
    "## Rendu de monnaie\n",
    "\n",
    "Étant donnée une liste `L` d'entiers $a_1,\\ldots,a_k$ (des pièces), on veut calculer le nombre minimum $r(n, k)$ de pièces parmi $a_1, ..., a_k$ dont la somme vaut $n$.\n",
    "\n",
    "Par exemple, si $k = 3$ et $a_1 = 1, a_2 = 2, a_3 = 5$ alors $r(7, 3) = 2$ (car $7 = 2 + 5$ et c'est la façon de rendre $7$€ qui utilise le moins de pièces).  \n",
    "\n",
    "Remarques :  \n",
    "- On peut utiliser plusieurs fois la même pièce.  \n",
    "- $r(0, k)$ revient à rendre $0$€, ce qu'on peut faire avec $0$ pièce : $r(0, k) = 0$\n",
    "- $r(n, 0)$ revient à n'utiliser aucune pièce, ce qui est impossible si $n \\neq 0$ : on posera $r(n, 0)$ = $\\infty$ (`float(\"inf\")` en Python)."
   ]
  },
  {
   "cell_type": "markdown",
   "metadata": {},
   "source": [
    "````{admonition} Question\n",
    " Écrire une relation de récurrence sur $r(n, k)$. On pourra distinguer deux cas pour rendre $n$ euros avec les picèes $a_1$, ..., $a_k$ :  \n",
    "- soit $a_k$ n'est pas utilisée (et on a donc $r(n, k) = r(n, k - 1)$)  \n",
    "- soit $a_k$ est utilisée (et on a $r(n, k) = ...$).\n",
    "````"
   ]
  },
  {
   "cell_type": "markdown",
   "metadata": {},
   "source": [
    "````{admonition} Question\n",
    " En déduire une fonction `rendu(L, n)` par programmation dynamique renvoyant le nombre minimum de pièces requises pour rendre `n` euros, où `L` est la liste des pièces.  \n",
    "On remplira une matrice `R` pour que `R[i][j]` contienne le nombre minimum de pièces pour rendre `i` euros en utilisant les `j` premières pièces de `L`.\n",
    "````"
   ]
  },
  {
   "cell_type": "code",
   "execution_count": 26,
   "metadata": {},
   "outputs": [],
   "source": [
    "def rendu(L, n):\n",
    "    R = [[0 for _ in range(len(L) + 1)] for _ in range(n + 1)]\n",
    "    for somme in range(n + 1):\n",
    "        for piece in range(len(L) + 1):\n",
    "            if somme == 0:\n",
    "                R[somme][piece] = 0\n",
    "            elif piece == 0:\n",
    "                R[somme][piece] = float(\"inf\")\n",
    "            else:\n",
    "                if L[piece - 1] > somme:\n",
    "                    R[somme][piece] = R[somme][piece - 1]\n",
    "                else:\n",
    "                    R[somme][piece] = min(1 + R[somme - L[piece - 1]][piece], R[somme][piece - 1])\n",
    "    return R[n][len(L)]"
   ]
  },
  {
   "cell_type": "code",
   "execution_count": 27,
   "metadata": {},
   "outputs": [
    {
     "data": {
      "text/plain": [
       "2"
      ]
     },
     "execution_count": 27,
     "metadata": {},
     "output_type": "execute_result"
    }
   ],
   "source": [
    "rendu([1, 2, 4, 5], 8)"
   ]
  },
  {
   "cell_type": "markdown",
   "metadata": {},
   "source": [
    "````{admonition} Question\n",
    " Réécrire la fonction précédente par mémoïsation plutôt que par programmation dynamique.\n",
    "````"
   ]
  },
  {
   "cell_type": "code",
   "execution_count": 28,
   "metadata": {},
   "outputs": [],
   "source": [
    "def rendu_mem(L, n):\n",
    "    rendu = {}\n",
    "    def aux(somme, piece):\n",
    "        if somme == 0:\n",
    "            rendu[(somme, piece)] = 0\n",
    "        elif piece == 0:\n",
    "            rendu[(somme, piece)] = float(\"inf\")\n",
    "        else:\n",
    "            if (somme, piece)  not in rendu:\n",
    "                if L[piece  - 1] > somme:\n",
    "                    rendu[(somme, piece)] = aux(somme, piece - 1)\n",
    "                else:\n",
    "                    rendu[(somme, piece)] = min(1 + aux(somme - L[piece - 1], piece), aux(somme, piece - 1))\n",
    "        return rendu[(somme, piece)]\n",
    "    return aux(n, len(L))\n"
   ]
  },
  {
   "cell_type": "code",
   "execution_count": 29,
   "metadata": {},
   "outputs": [
    {
     "data": {
      "text/plain": [
       "3"
      ]
     },
     "execution_count": 29,
     "metadata": {},
     "output_type": "execute_result"
    }
   ],
   "source": [
    "rendu_mem([1, 2, 5], 8)"
   ]
  },
  {
   "cell_type": "markdown",
   "metadata": {},
   "source": [
    "## Plus grand carré dans une matrice\n",
    "\n",
    "Étant donnée une matrice carrée remplie de 0 ou 1, on souhaite connaître la taille du plus gros carré de 1 dans cette matrice.  \n",
    "Par exemple, ce nombre est 2 pour la matrice $M$ suivante (correspondant au carré en pointillé) :\n",
    "\n",
    "<center><img src=https://raw.githubusercontent.com/fortierq/tikz/master/dyn_prog/matrix_square/matrix_square.png width=200></center>"
   ]
  },
  {
   "cell_type": "markdown",
   "metadata": {},
   "source": [
    "\n",
    "La case de coordonnés $(x, y)$ est celle sur la ligne $x$, colonne $y$. La case de coordonnées (0, 0) est celle en haut à gauche.  \n",
    "On supposera que les indices en arguments des fonctions ne dépassent pas des tableaux ou matrices correspondants."
   ]
  },
  {
   "cell_type": "markdown",
   "metadata": {},
   "source": [
    "````{admonition} Question\n",
    " Définir `M` en Python.\n",
    "````"
   ]
  },
  {
   "cell_type": "code",
   "execution_count": 57,
   "metadata": {},
   "outputs": [],
   "source": [
    "M = [[0, 1, 0, 0],\n",
    "     [0, 0, 1, 1],\n",
    "     [0, 1, 1, 1],\n",
    "     [1, 1, 1, 0]]\n",
    "\n",
    "M_prim = [\n",
    "    [0, 1, 0, 0],\n",
    "    [0, 0, 0, 0],\n",
    "    [0, 0, 0, 0],\n",
    "    [0, 0, 0, 0]\n",
    "]"
   ]
  },
  {
   "cell_type": "markdown",
   "metadata": {},
   "source": [
    "## Méthode naïve"
   ]
  },
  {
   "cell_type": "markdown",
   "metadata": {},
   "source": [
    "````{admonition} Question\n",
    " Écrire une fonction `est_carre` telle que `est_carre(m, x, y, k)` détermine si la sous-matrice de `m` de taille $k \\times k$ et dont la case en haut à gauche a pour coordonnées (`x`, `y`) ne possède que des 1.\n",
    "````"
   ]
  },
  {
   "cell_type": "code",
   "execution_count": 58,
   "metadata": {},
   "outputs": [
    {
     "data": {
      "text/plain": [
       "False"
      ]
     },
     "execution_count": 58,
     "metadata": {},
     "output_type": "execute_result"
    }
   ],
   "source": [
    "def est_carre(m, x, y, k):\n",
    "    flag = True\n",
    "    for i in range(x, x + k):\n",
    "        for j in range(y, y + k):\n",
    "            flag *= m[i][j]\n",
    "    return bool(flag)\n",
    "\n",
    "est_carre(M_prim, 1, 2, 2)"
   ]
  },
  {
   "cell_type": "code",
   "execution_count": 59,
   "metadata": {},
   "outputs": [],
   "source": [
    "assert(est_carre(M, 1, 2, 2) and not est_carre(M, 1, 1, 2))"
   ]
  },
  {
   "cell_type": "markdown",
   "metadata": {},
   "source": [
    "````{admonition} Question\n",
    " Écrire une fonction `contient_carre` telle que `contient_carre(m, k)` renvoie `true` si `m` contient un carré de 1 de taille $k$, `false` sinon.\n",
    "````"
   ]
  },
  {
   "cell_type": "code",
   "execution_count": 60,
   "metadata": {},
   "outputs": [],
   "source": [
    "def contient_carre(m, k):\n",
    "        if k > len(m):\n",
    "            return False\n",
    "        else:\n",
    "            for x in range(len(m) + 1 - k):\n",
    "                for y in range(len(m) + 1 - k):\n",
    "                    if est_carre(m, x, y, k):\n",
    "                        return True\n",
    "            return False"
   ]
  },
  {
   "cell_type": "code",
   "execution_count": 61,
   "metadata": {},
   "outputs": [],
   "source": [
    "assert(contient_carre(M, 2) and not contient_carre(M, 3))"
   ]
  },
  {
   "cell_type": "markdown",
   "metadata": {},
   "source": [
    "````{admonition} Question\n",
    " Écrire une fonction `max_carre1` telle que `max_carre1(m)` renvoie la taille maximum d'un carré de 1 contenu dans `m`.\n",
    "````"
   ]
  },
  {
   "cell_type": "code",
   "execution_count": 62,
   "metadata": {},
   "outputs": [],
   "source": [
    "def max_carre1(m):\n",
    "    k = 0\n",
    "    while contient_carre(m, k + 1):\n",
    "        k += 1\n",
    "    return k"
   ]
  },
  {
   "cell_type": "code",
   "execution_count": 63,
   "metadata": {},
   "outputs": [
    {
     "data": {
      "text/plain": [
       "1"
      ]
     },
     "execution_count": 63,
     "metadata": {},
     "output_type": "execute_result"
    }
   ],
   "source": [
    "max_carre1(M_prim)"
   ]
  },
  {
   "cell_type": "markdown",
   "metadata": {},
   "source": [
    "````{admonition} Question\n",
    " Quelle est la complexité de `max_carre1(m)` dans le pire cas ?\n",
    "````"
   ]
  },
  {
   "cell_type": "markdown",
   "metadata": {},
   "source": [
    "On va construire une matrice `c` telle que `c[x][y]` est la taille maximum d'un carré de 1 dans `m` dont la case en bas à droite est `m[x][y]` (c'est à dire un carré de 1 qui contient `m[x][y]` mais aucun `m[i][j]` si $i > x$ ou $j > y$).  \n",
    "Par exemple, `c[1][2] = 1` et `c[2][3] = 2` pour la matrice $M$ ci-dessus."
   ]
  },
  {
   "cell_type": "markdown",
   "metadata": {},
   "source": [
    "````{admonition} Question\n",
    " Que vaut `c[0][y]` et `c[x][0]` ?\n",
    "````"
   ]
  },
  {
   "cell_type": "markdown",
   "metadata": {},
   "source": [
    "On a toujours `c[0][y] = m[0][y]` et `c[x][0] = m[x][0]`"
   ]
  },
  {
   "cell_type": "markdown",
   "metadata": {},
   "source": [
    "````{admonition} Question\n",
    " Que vaut `c[x][y]` si `m[x][y] = 0` ?\n",
    "````"
   ]
  },
  {
   "cell_type": "markdown",
   "metadata": {},
   "source": [
    "Dans ce cas-ci : `c[x][y] = 0`"
   ]
  },
  {
   "cell_type": "markdown",
   "metadata": {},
   "source": [
    "````{admonition} Question\n",
    " Montrer que, si `m[x][y] = 1`, `c[x][y] = 1 + min(c[x-1][y], c[x][y-1], c[x-1][y-1])`.\n",
    "````"
   ]
  },
  {
   "cell_type": "markdown",
   "metadata": {},
   "source": [
    "CA MARCHE"
   ]
  },
  {
   "cell_type": "markdown",
   "metadata": {},
   "source": [
    "````{admonition} Question\n",
    " En déduire une fonction `max_carre2` telle que `max_carre2(m)` renvoie la taille maximum d'un carré de 1 contenu dans `m`, ainsi que les coordonnées de la case en haut à gauche d'un tel carré.\n",
    "````"
   ]
  },
  {
   "cell_type": "code",
   "execution_count": 65,
   "metadata": {},
   "outputs": [],
   "source": [
    "def max_carre2(m):\n",
    "    c = [[0]*len(m) for _ in range(len(m))]\n",
    "    taille_max, coordX, coordY = 0, 0, 0\n",
    "    for x in range(len(m)):\n",
    "        for y in range(len(m)):\n",
    "            if x == 0 or y==0:\n",
    "                c[x][y] = m[x][y]\n",
    "            elif m[x][y] == 0:\n",
    "                c[x][y] = 0\n",
    "            else:\n",
    "                c[x][y] = 1 + min(c[x - 1][y], c[x][y - 1], c[x - 1][y - 1])\n",
    "                taille_max, coordX, coordY = max((taille_max, coordX, coordY), (c[x][y], x - c[x][y] + 1, y - c[x][y] + 1))\n",
    "    return taille_max, coordX, coordY"
   ]
  },
  {
   "cell_type": "code",
   "execution_count": 66,
   "metadata": {},
   "outputs": [
    {
     "data": {
      "text/plain": [
       "(2, 2, 1)"
      ]
     },
     "execution_count": 66,
     "metadata": {},
     "output_type": "execute_result"
    }
   ],
   "source": [
    "max_carre2(M)"
   ]
  },
  {
   "cell_type": "markdown",
   "metadata": {},
   "source": [
    "````{admonition} Question\n",
    " Quelle est la complexité de `max_carre2(m)`, en fonction des dimensions de `m`? Comparer avec `max_carre1(m)`.\n",
    "````"
   ]
  },
  {
   "cell_type": "markdown",
   "metadata": {},
   "source": [
    "## Pour ceux qui ont fini\n",
    "\n",
    "Cette partie n'est pas à rendre, sauf si vous en avez le temps."
   ]
  },
  {
   "cell_type": "markdown",
   "metadata": {},
   "source": [
    "````{admonition} Question\n",
    " S'inscrire sur [https://projecteuler.net/](https://projecteuler.net/) et résoudre [ce problème](https://projecteuler.net/problem=67).  \n",
    "On pourra télécharger le fichier triangle.txt demandé avec :  \n",
    "```python\n",
    "import urllib.request\n",
    "f = urllib.request.urlopen(\"https://projecteuler.net/project/resources/p067_triangle.txt\")\n",
    "lignes = list(map(lambda x : list(map(int, x.split())), f.readlines())) # renvoie la liste des lignes du fichier\n",
    "```\n",
    "````"
   ]
  },
  {
   "cell_type": "markdown",
   "metadata": {},
   "source": [
    "````{admonition} Question\n",
    " [Résoudre ce problème (en s'inscrivant préalablement)](https://leetcode.com/problems/longest-increasing-subsequence)\n",
    "````"
   ]
  },
  {
   "cell_type": "markdown",
   "metadata": {},
   "source": []
  }
 ],
 "metadata": {
  "kernelspec": {
   "display_name": "Python 3 (ipykernel)",
   "language": "python",
   "name": "python3"
  },
  "language_info": {
   "codemirror_mode": {
    "name": "ipython",
    "version": 3
   },
   "file_extension": ".py",
   "mimetype": "text/x-python",
   "name": "python",
   "nbconvert_exporter": "python",
   "pygments_lexer": "ipython3",
   "version": "3.11.4"
  },
  "vscode": {
   "interpreter": {
    "hash": "31f2aee4e71d21fbe5cf8b01ff0e069b9275f58929596ceb00d14d90e3e16cd6"
   }
  }
 },
 "nbformat": 4,
 "nbformat_minor": 4
}
